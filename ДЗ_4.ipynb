{
  "nbformat": 4,
  "nbformat_minor": 0,
  "metadata": {
    "colab": {
      "provenance": []
    },
    "kernelspec": {
      "name": "python3",
      "display_name": "Python 3"
    },
    "language_info": {
      "name": "python"
    },
    "accelerator": "GPU",
    "gpuClass": "standard",
    "widgets": {
      "application/vnd.jupyter.widget-state+json": {
        "874d68119ca94046824cd70f9def02c7": {
          "model_module": "@jupyter-widgets/controls",
          "model_name": "HBoxModel",
          "model_module_version": "1.5.0",
          "state": {
            "_dom_classes": [],
            "_model_module": "@jupyter-widgets/controls",
            "_model_module_version": "1.5.0",
            "_model_name": "HBoxModel",
            "_view_count": null,
            "_view_module": "@jupyter-widgets/controls",
            "_view_module_version": "1.5.0",
            "_view_name": "HBoxView",
            "box_style": "",
            "children": [
              "IPY_MODEL_015ef85a5c0d419a89b92bd19b884dca",
              "IPY_MODEL_0f889109e0bb4c09a28ca14983314418",
              "IPY_MODEL_b26cb947c8c24c1181f52f960079b7fc"
            ],
            "layout": "IPY_MODEL_fb748430fbd2468d90ce6dcfddb12020"
          }
        },
        "015ef85a5c0d419a89b92bd19b884dca": {
          "model_module": "@jupyter-widgets/controls",
          "model_name": "HTMLModel",
          "model_module_version": "1.5.0",
          "state": {
            "_dom_classes": [],
            "_model_module": "@jupyter-widgets/controls",
            "_model_module_version": "1.5.0",
            "_model_name": "HTMLModel",
            "_view_count": null,
            "_view_module": "@jupyter-widgets/controls",
            "_view_module_version": "1.5.0",
            "_view_name": "HTMLView",
            "description": "",
            "description_tooltip": null,
            "layout": "IPY_MODEL_f0c17a82dd264216945dcf2283db46b0",
            "placeholder": "​",
            "style": "IPY_MODEL_40172e4f2e6c47cbb2e6c1c6091c0f50",
            "value": "100%"
          }
        },
        "0f889109e0bb4c09a28ca14983314418": {
          "model_module": "@jupyter-widgets/controls",
          "model_name": "FloatProgressModel",
          "model_module_version": "1.5.0",
          "state": {
            "_dom_classes": [],
            "_model_module": "@jupyter-widgets/controls",
            "_model_module_version": "1.5.0",
            "_model_name": "FloatProgressModel",
            "_view_count": null,
            "_view_module": "@jupyter-widgets/controls",
            "_view_module_version": "1.5.0",
            "_view_name": "ProgressView",
            "bar_style": "success",
            "description": "",
            "description_tooltip": null,
            "layout": "IPY_MODEL_8686d4b368b7438486b4fd6fc96a8ef6",
            "max": 169001437,
            "min": 0,
            "orientation": "horizontal",
            "style": "IPY_MODEL_cd3e38ef84a54ae4912f3da2e948198c",
            "value": 169001437
          }
        },
        "b26cb947c8c24c1181f52f960079b7fc": {
          "model_module": "@jupyter-widgets/controls",
          "model_name": "HTMLModel",
          "model_module_version": "1.5.0",
          "state": {
            "_dom_classes": [],
            "_model_module": "@jupyter-widgets/controls",
            "_model_module_version": "1.5.0",
            "_model_name": "HTMLModel",
            "_view_count": null,
            "_view_module": "@jupyter-widgets/controls",
            "_view_module_version": "1.5.0",
            "_view_name": "HTMLView",
            "description": "",
            "description_tooltip": null,
            "layout": "IPY_MODEL_9d8d73d902ae47798b1ac8c4bfb5715d",
            "placeholder": "​",
            "style": "IPY_MODEL_0019949c946749f992962638377acb0c",
            "value": " 169001437/169001437 [00:04&lt;00:00, 37129426.25it/s]"
          }
        },
        "fb748430fbd2468d90ce6dcfddb12020": {
          "model_module": "@jupyter-widgets/base",
          "model_name": "LayoutModel",
          "model_module_version": "1.2.0",
          "state": {
            "_model_module": "@jupyter-widgets/base",
            "_model_module_version": "1.2.0",
            "_model_name": "LayoutModel",
            "_view_count": null,
            "_view_module": "@jupyter-widgets/base",
            "_view_module_version": "1.2.0",
            "_view_name": "LayoutView",
            "align_content": null,
            "align_items": null,
            "align_self": null,
            "border": null,
            "bottom": null,
            "display": null,
            "flex": null,
            "flex_flow": null,
            "grid_area": null,
            "grid_auto_columns": null,
            "grid_auto_flow": null,
            "grid_auto_rows": null,
            "grid_column": null,
            "grid_gap": null,
            "grid_row": null,
            "grid_template_areas": null,
            "grid_template_columns": null,
            "grid_template_rows": null,
            "height": null,
            "justify_content": null,
            "justify_items": null,
            "left": null,
            "margin": null,
            "max_height": null,
            "max_width": null,
            "min_height": null,
            "min_width": null,
            "object_fit": null,
            "object_position": null,
            "order": null,
            "overflow": null,
            "overflow_x": null,
            "overflow_y": null,
            "padding": null,
            "right": null,
            "top": null,
            "visibility": null,
            "width": null
          }
        },
        "f0c17a82dd264216945dcf2283db46b0": {
          "model_module": "@jupyter-widgets/base",
          "model_name": "LayoutModel",
          "model_module_version": "1.2.0",
          "state": {
            "_model_module": "@jupyter-widgets/base",
            "_model_module_version": "1.2.0",
            "_model_name": "LayoutModel",
            "_view_count": null,
            "_view_module": "@jupyter-widgets/base",
            "_view_module_version": "1.2.0",
            "_view_name": "LayoutView",
            "align_content": null,
            "align_items": null,
            "align_self": null,
            "border": null,
            "bottom": null,
            "display": null,
            "flex": null,
            "flex_flow": null,
            "grid_area": null,
            "grid_auto_columns": null,
            "grid_auto_flow": null,
            "grid_auto_rows": null,
            "grid_column": null,
            "grid_gap": null,
            "grid_row": null,
            "grid_template_areas": null,
            "grid_template_columns": null,
            "grid_template_rows": null,
            "height": null,
            "justify_content": null,
            "justify_items": null,
            "left": null,
            "margin": null,
            "max_height": null,
            "max_width": null,
            "min_height": null,
            "min_width": null,
            "object_fit": null,
            "object_position": null,
            "order": null,
            "overflow": null,
            "overflow_x": null,
            "overflow_y": null,
            "padding": null,
            "right": null,
            "top": null,
            "visibility": null,
            "width": null
          }
        },
        "40172e4f2e6c47cbb2e6c1c6091c0f50": {
          "model_module": "@jupyter-widgets/controls",
          "model_name": "DescriptionStyleModel",
          "model_module_version": "1.5.0",
          "state": {
            "_model_module": "@jupyter-widgets/controls",
            "_model_module_version": "1.5.0",
            "_model_name": "DescriptionStyleModel",
            "_view_count": null,
            "_view_module": "@jupyter-widgets/base",
            "_view_module_version": "1.2.0",
            "_view_name": "StyleView",
            "description_width": ""
          }
        },
        "8686d4b368b7438486b4fd6fc96a8ef6": {
          "model_module": "@jupyter-widgets/base",
          "model_name": "LayoutModel",
          "model_module_version": "1.2.0",
          "state": {
            "_model_module": "@jupyter-widgets/base",
            "_model_module_version": "1.2.0",
            "_model_name": "LayoutModel",
            "_view_count": null,
            "_view_module": "@jupyter-widgets/base",
            "_view_module_version": "1.2.0",
            "_view_name": "LayoutView",
            "align_content": null,
            "align_items": null,
            "align_self": null,
            "border": null,
            "bottom": null,
            "display": null,
            "flex": null,
            "flex_flow": null,
            "grid_area": null,
            "grid_auto_columns": null,
            "grid_auto_flow": null,
            "grid_auto_rows": null,
            "grid_column": null,
            "grid_gap": null,
            "grid_row": null,
            "grid_template_areas": null,
            "grid_template_columns": null,
            "grid_template_rows": null,
            "height": null,
            "justify_content": null,
            "justify_items": null,
            "left": null,
            "margin": null,
            "max_height": null,
            "max_width": null,
            "min_height": null,
            "min_width": null,
            "object_fit": null,
            "object_position": null,
            "order": null,
            "overflow": null,
            "overflow_x": null,
            "overflow_y": null,
            "padding": null,
            "right": null,
            "top": null,
            "visibility": null,
            "width": null
          }
        },
        "cd3e38ef84a54ae4912f3da2e948198c": {
          "model_module": "@jupyter-widgets/controls",
          "model_name": "ProgressStyleModel",
          "model_module_version": "1.5.0",
          "state": {
            "_model_module": "@jupyter-widgets/controls",
            "_model_module_version": "1.5.0",
            "_model_name": "ProgressStyleModel",
            "_view_count": null,
            "_view_module": "@jupyter-widgets/base",
            "_view_module_version": "1.2.0",
            "_view_name": "StyleView",
            "bar_color": null,
            "description_width": ""
          }
        },
        "9d8d73d902ae47798b1ac8c4bfb5715d": {
          "model_module": "@jupyter-widgets/base",
          "model_name": "LayoutModel",
          "model_module_version": "1.2.0",
          "state": {
            "_model_module": "@jupyter-widgets/base",
            "_model_module_version": "1.2.0",
            "_model_name": "LayoutModel",
            "_view_count": null,
            "_view_module": "@jupyter-widgets/base",
            "_view_module_version": "1.2.0",
            "_view_name": "LayoutView",
            "align_content": null,
            "align_items": null,
            "align_self": null,
            "border": null,
            "bottom": null,
            "display": null,
            "flex": null,
            "flex_flow": null,
            "grid_area": null,
            "grid_auto_columns": null,
            "grid_auto_flow": null,
            "grid_auto_rows": null,
            "grid_column": null,
            "grid_gap": null,
            "grid_row": null,
            "grid_template_areas": null,
            "grid_template_columns": null,
            "grid_template_rows": null,
            "height": null,
            "justify_content": null,
            "justify_items": null,
            "left": null,
            "margin": null,
            "max_height": null,
            "max_width": null,
            "min_height": null,
            "min_width": null,
            "object_fit": null,
            "object_position": null,
            "order": null,
            "overflow": null,
            "overflow_x": null,
            "overflow_y": null,
            "padding": null,
            "right": null,
            "top": null,
            "visibility": null,
            "width": null
          }
        },
        "0019949c946749f992962638377acb0c": {
          "model_module": "@jupyter-widgets/controls",
          "model_name": "DescriptionStyleModel",
          "model_module_version": "1.5.0",
          "state": {
            "_model_module": "@jupyter-widgets/controls",
            "_model_module_version": "1.5.0",
            "_model_name": "DescriptionStyleModel",
            "_view_count": null,
            "_view_module": "@jupyter-widgets/base",
            "_view_module_version": "1.2.0",
            "_view_name": "StyleView",
            "description_width": ""
          }
        },
        "96ece63915aa415d8d983a82f81906f9": {
          "model_module": "@jupyter-widgets/controls",
          "model_name": "HBoxModel",
          "model_module_version": "1.5.0",
          "state": {
            "_dom_classes": [],
            "_model_module": "@jupyter-widgets/controls",
            "_model_module_version": "1.5.0",
            "_model_name": "HBoxModel",
            "_view_count": null,
            "_view_module": "@jupyter-widgets/controls",
            "_view_module_version": "1.5.0",
            "_view_name": "HBoxView",
            "box_style": "",
            "children": [
              "IPY_MODEL_61954e22a5d64ff085b765c8ed61cc5d",
              "IPY_MODEL_884abfe783984fa1b0ab3bd12974fa31",
              "IPY_MODEL_a9d44e021fb849e5acf04688bc5638c5"
            ],
            "layout": "IPY_MODEL_977dd45c495d4bc893baf9ab5af36e3a"
          }
        },
        "61954e22a5d64ff085b765c8ed61cc5d": {
          "model_module": "@jupyter-widgets/controls",
          "model_name": "HTMLModel",
          "model_module_version": "1.5.0",
          "state": {
            "_dom_classes": [],
            "_model_module": "@jupyter-widgets/controls",
            "_model_module_version": "1.5.0",
            "_model_name": "HTMLModel",
            "_view_count": null,
            "_view_module": "@jupyter-widgets/controls",
            "_view_module_version": "1.5.0",
            "_view_name": "HTMLView",
            "description": "",
            "description_tooltip": null,
            "layout": "IPY_MODEL_6fc0adaeb14946b0a407da4a29a30a48",
            "placeholder": "​",
            "style": "IPY_MODEL_5fdb54cf439e4c61829b6b618d992a16",
            "value": "100%"
          }
        },
        "884abfe783984fa1b0ab3bd12974fa31": {
          "model_module": "@jupyter-widgets/controls",
          "model_name": "FloatProgressModel",
          "model_module_version": "1.5.0",
          "state": {
            "_dom_classes": [],
            "_model_module": "@jupyter-widgets/controls",
            "_model_module_version": "1.5.0",
            "_model_name": "FloatProgressModel",
            "_view_count": null,
            "_view_module": "@jupyter-widgets/controls",
            "_view_module_version": "1.5.0",
            "_view_name": "ProgressView",
            "bar_style": "success",
            "description": "",
            "description_tooltip": null,
            "layout": "IPY_MODEL_10b2b34ae3db45039dff7d9298c22a8b",
            "max": 102530333,
            "min": 0,
            "orientation": "horizontal",
            "style": "IPY_MODEL_167a41db49444bb6b1bc78d5ce0f49b8",
            "value": 102530333
          }
        },
        "a9d44e021fb849e5acf04688bc5638c5": {
          "model_module": "@jupyter-widgets/controls",
          "model_name": "HTMLModel",
          "model_module_version": "1.5.0",
          "state": {
            "_dom_classes": [],
            "_model_module": "@jupyter-widgets/controls",
            "_model_module_version": "1.5.0",
            "_model_name": "HTMLModel",
            "_view_count": null,
            "_view_module": "@jupyter-widgets/controls",
            "_view_module_version": "1.5.0",
            "_view_name": "HTMLView",
            "description": "",
            "description_tooltip": null,
            "layout": "IPY_MODEL_47b350c7508c434eb3cae487fdbf91fb",
            "placeholder": "​",
            "style": "IPY_MODEL_58476aff16304380bc47bbc4b2098129",
            "value": " 97.8M/97.8M [00:00&lt;00:00, 191MB/s]"
          }
        },
        "977dd45c495d4bc893baf9ab5af36e3a": {
          "model_module": "@jupyter-widgets/base",
          "model_name": "LayoutModel",
          "model_module_version": "1.2.0",
          "state": {
            "_model_module": "@jupyter-widgets/base",
            "_model_module_version": "1.2.0",
            "_model_name": "LayoutModel",
            "_view_count": null,
            "_view_module": "@jupyter-widgets/base",
            "_view_module_version": "1.2.0",
            "_view_name": "LayoutView",
            "align_content": null,
            "align_items": null,
            "align_self": null,
            "border": null,
            "bottom": null,
            "display": null,
            "flex": null,
            "flex_flow": null,
            "grid_area": null,
            "grid_auto_columns": null,
            "grid_auto_flow": null,
            "grid_auto_rows": null,
            "grid_column": null,
            "grid_gap": null,
            "grid_row": null,
            "grid_template_areas": null,
            "grid_template_columns": null,
            "grid_template_rows": null,
            "height": null,
            "justify_content": null,
            "justify_items": null,
            "left": null,
            "margin": null,
            "max_height": null,
            "max_width": null,
            "min_height": null,
            "min_width": null,
            "object_fit": null,
            "object_position": null,
            "order": null,
            "overflow": null,
            "overflow_x": null,
            "overflow_y": null,
            "padding": null,
            "right": null,
            "top": null,
            "visibility": null,
            "width": null
          }
        },
        "6fc0adaeb14946b0a407da4a29a30a48": {
          "model_module": "@jupyter-widgets/base",
          "model_name": "LayoutModel",
          "model_module_version": "1.2.0",
          "state": {
            "_model_module": "@jupyter-widgets/base",
            "_model_module_version": "1.2.0",
            "_model_name": "LayoutModel",
            "_view_count": null,
            "_view_module": "@jupyter-widgets/base",
            "_view_module_version": "1.2.0",
            "_view_name": "LayoutView",
            "align_content": null,
            "align_items": null,
            "align_self": null,
            "border": null,
            "bottom": null,
            "display": null,
            "flex": null,
            "flex_flow": null,
            "grid_area": null,
            "grid_auto_columns": null,
            "grid_auto_flow": null,
            "grid_auto_rows": null,
            "grid_column": null,
            "grid_gap": null,
            "grid_row": null,
            "grid_template_areas": null,
            "grid_template_columns": null,
            "grid_template_rows": null,
            "height": null,
            "justify_content": null,
            "justify_items": null,
            "left": null,
            "margin": null,
            "max_height": null,
            "max_width": null,
            "min_height": null,
            "min_width": null,
            "object_fit": null,
            "object_position": null,
            "order": null,
            "overflow": null,
            "overflow_x": null,
            "overflow_y": null,
            "padding": null,
            "right": null,
            "top": null,
            "visibility": null,
            "width": null
          }
        },
        "5fdb54cf439e4c61829b6b618d992a16": {
          "model_module": "@jupyter-widgets/controls",
          "model_name": "DescriptionStyleModel",
          "model_module_version": "1.5.0",
          "state": {
            "_model_module": "@jupyter-widgets/controls",
            "_model_module_version": "1.5.0",
            "_model_name": "DescriptionStyleModel",
            "_view_count": null,
            "_view_module": "@jupyter-widgets/base",
            "_view_module_version": "1.2.0",
            "_view_name": "StyleView",
            "description_width": ""
          }
        },
        "10b2b34ae3db45039dff7d9298c22a8b": {
          "model_module": "@jupyter-widgets/base",
          "model_name": "LayoutModel",
          "model_module_version": "1.2.0",
          "state": {
            "_model_module": "@jupyter-widgets/base",
            "_model_module_version": "1.2.0",
            "_model_name": "LayoutModel",
            "_view_count": null,
            "_view_module": "@jupyter-widgets/base",
            "_view_module_version": "1.2.0",
            "_view_name": "LayoutView",
            "align_content": null,
            "align_items": null,
            "align_self": null,
            "border": null,
            "bottom": null,
            "display": null,
            "flex": null,
            "flex_flow": null,
            "grid_area": null,
            "grid_auto_columns": null,
            "grid_auto_flow": null,
            "grid_auto_rows": null,
            "grid_column": null,
            "grid_gap": null,
            "grid_row": null,
            "grid_template_areas": null,
            "grid_template_columns": null,
            "grid_template_rows": null,
            "height": null,
            "justify_content": null,
            "justify_items": null,
            "left": null,
            "margin": null,
            "max_height": null,
            "max_width": null,
            "min_height": null,
            "min_width": null,
            "object_fit": null,
            "object_position": null,
            "order": null,
            "overflow": null,
            "overflow_x": null,
            "overflow_y": null,
            "padding": null,
            "right": null,
            "top": null,
            "visibility": null,
            "width": null
          }
        },
        "167a41db49444bb6b1bc78d5ce0f49b8": {
          "model_module": "@jupyter-widgets/controls",
          "model_name": "ProgressStyleModel",
          "model_module_version": "1.5.0",
          "state": {
            "_model_module": "@jupyter-widgets/controls",
            "_model_module_version": "1.5.0",
            "_model_name": "ProgressStyleModel",
            "_view_count": null,
            "_view_module": "@jupyter-widgets/base",
            "_view_module_version": "1.2.0",
            "_view_name": "StyleView",
            "bar_color": null,
            "description_width": ""
          }
        },
        "47b350c7508c434eb3cae487fdbf91fb": {
          "model_module": "@jupyter-widgets/base",
          "model_name": "LayoutModel",
          "model_module_version": "1.2.0",
          "state": {
            "_model_module": "@jupyter-widgets/base",
            "_model_module_version": "1.2.0",
            "_model_name": "LayoutModel",
            "_view_count": null,
            "_view_module": "@jupyter-widgets/base",
            "_view_module_version": "1.2.0",
            "_view_name": "LayoutView",
            "align_content": null,
            "align_items": null,
            "align_self": null,
            "border": null,
            "bottom": null,
            "display": null,
            "flex": null,
            "flex_flow": null,
            "grid_area": null,
            "grid_auto_columns": null,
            "grid_auto_flow": null,
            "grid_auto_rows": null,
            "grid_column": null,
            "grid_gap": null,
            "grid_row": null,
            "grid_template_areas": null,
            "grid_template_columns": null,
            "grid_template_rows": null,
            "height": null,
            "justify_content": null,
            "justify_items": null,
            "left": null,
            "margin": null,
            "max_height": null,
            "max_width": null,
            "min_height": null,
            "min_width": null,
            "object_fit": null,
            "object_position": null,
            "order": null,
            "overflow": null,
            "overflow_x": null,
            "overflow_y": null,
            "padding": null,
            "right": null,
            "top": null,
            "visibility": null,
            "width": null
          }
        },
        "58476aff16304380bc47bbc4b2098129": {
          "model_module": "@jupyter-widgets/controls",
          "model_name": "DescriptionStyleModel",
          "model_module_version": "1.5.0",
          "state": {
            "_model_module": "@jupyter-widgets/controls",
            "_model_module_version": "1.5.0",
            "_model_name": "DescriptionStyleModel",
            "_view_count": null,
            "_view_module": "@jupyter-widgets/base",
            "_view_module_version": "1.2.0",
            "_view_name": "StyleView",
            "description_width": ""
          }
        }
      }
    }
  },
  "cells": [
    {
      "cell_type": "markdown",
      "source": [
        "**Домашнее задание**\n",
        "\n",
        "Обучите CNN (самописная) на CIFAR-100.\n",
        "\n",
        "Обучите CNN на CIFAR-100 через дообучение ImageNet Resnet-50.\n",
        "\n",
        "*Обучите CNN на CIFAR-100 через дообучение ImageNet Resnet-50 с аугментацией данных."
      ],
      "metadata": {
        "id": "S3wWHzpxSGI6"
      }
    },
    {
      "cell_type": "markdown",
      "source": [
        "# **Подключение библиотек**\n",
        "\n"
      ],
      "metadata": {
        "id": "sTjC_KPMSPGq"
      }
    },
    {
      "cell_type": "code",
      "execution_count": 1,
      "metadata": {
        "id": "4ZQ9wqNDR6OO"
      },
      "outputs": [],
      "source": [
        "import numpy as np\n",
        "import matplotlib.pyplot as plt\n",
        "\n",
        "import torch\n",
        "from torch.utils.data import Dataset, DataLoader\n",
        "from torchvision import transforms, datasets\n",
        "from torch import nn\n",
        "from torch.nn import functional as F\n",
        "from torch.optim import Adam\n",
        "from torchvision import models\n",
        "\n",
        "\n",
        "from sklearn.model_selection import train_test_split"
      ]
    },
    {
      "cell_type": "markdown",
      "source": [
        "Подготовка данных. Загрузка датасета CIFAR-100"
      ],
      "metadata": {
        "id": "aSMhHei7SioB"
      }
    },
    {
      "cell_type": "code",
      "source": [
        "dataset = datasets.CIFAR100(root='./data/', train=True, download=True)"
      ],
      "metadata": {
        "colab": {
          "base_uri": "https://localhost:8080/",
          "height": 84,
          "referenced_widgets": [
            "874d68119ca94046824cd70f9def02c7",
            "015ef85a5c0d419a89b92bd19b884dca",
            "0f889109e0bb4c09a28ca14983314418",
            "b26cb947c8c24c1181f52f960079b7fc",
            "fb748430fbd2468d90ce6dcfddb12020",
            "f0c17a82dd264216945dcf2283db46b0",
            "40172e4f2e6c47cbb2e6c1c6091c0f50",
            "8686d4b368b7438486b4fd6fc96a8ef6",
            "cd3e38ef84a54ae4912f3da2e948198c",
            "9d8d73d902ae47798b1ac8c4bfb5715d",
            "0019949c946749f992962638377acb0c"
          ]
        },
        "id": "8DP0s6ZvSj1L",
        "outputId": "e3a84f26-dbbc-43a4-a86d-4316d3647682"
      },
      "execution_count": 2,
      "outputs": [
        {
          "output_type": "stream",
          "name": "stdout",
          "text": [
            "Downloading https://www.cs.toronto.edu/~kriz/cifar-100-python.tar.gz to ./data/cifar-100-python.tar.gz\n"
          ]
        },
        {
          "output_type": "display_data",
          "data": {
            "text/plain": [
              "  0%|          | 0/169001437 [00:00<?, ?it/s]"
            ],
            "application/vnd.jupyter.widget-view+json": {
              "version_major": 2,
              "version_minor": 0,
              "model_id": "874d68119ca94046824cd70f9def02c7"
            }
          },
          "metadata": {}
        },
        {
          "output_type": "stream",
          "name": "stdout",
          "text": [
            "Extracting ./data/cifar-100-python.tar.gz to ./data/\n"
          ]
        }
      ]
    },
    {
      "cell_type": "code",
      "source": [
        "class MyOwnCifar(Dataset):\n",
        "   \n",
        "    def __init__(self, init_dataset, transform=None):\n",
        "        self._base_dataset = init_dataset\n",
        "        self.transform = transform\n",
        "\n",
        "    def __len__(self):\n",
        "        return len(self._base_dataset)\n",
        "\n",
        "    def __getitem__(self, idx):\n",
        "        img = self._base_dataset[idx][0]\n",
        "        if self.transform is not None:\n",
        "            img = self.transform(img)\n",
        "        label = self._base_dataset[idx][1]\n",
        "        return img, label"
      ],
      "metadata": {
        "id": "k2RJlx1dSuhT"
      },
      "execution_count": 3,
      "outputs": []
    },
    {
      "cell_type": "code",
      "source": [
        "def train_valid_split(dataset):\n",
        "    X_train, X_test = train_test_split(dataset, test_size=0.05, random_state=13)\n",
        "    return X_train, X_test"
      ],
      "metadata": {
        "id": "qMjBQs2gSyV7"
      },
      "execution_count": 4,
      "outputs": []
    },
    {
      "cell_type": "code",
      "source": [
        "train_dataset, test_dataset = train_valid_split(dataset)"
      ],
      "metadata": {
        "id": "SIp4so7uS5Ya"
      },
      "execution_count": 5,
      "outputs": []
    },
    {
      "cell_type": "code",
      "source": [
        "train_dataset = MyOwnCifar(train_dataset, transforms.ToTensor())"
      ],
      "metadata": {
        "id": "8yRI7xsxS7T6"
      },
      "execution_count": 6,
      "outputs": []
    },
    {
      "cell_type": "code",
      "source": [
        "test_dataset = MyOwnCifar(test_dataset, transforms.ToTensor())"
      ],
      "metadata": {
        "id": "PF20taCDS9Wy"
      },
      "execution_count": 7,
      "outputs": []
    },
    {
      "cell_type": "code",
      "source": [
        "train_loader = DataLoader(train_dataset,\n",
        "                          batch_size=100,\n",
        "                          shuffle=True, \n",
        "                          num_workers=0)\n",
        "\n",
        "test_loader = DataLoader(test_dataset,\n",
        "                          batch_size=100,\n",
        "                          shuffle=False,\n",
        "                          num_workers=0)"
      ],
      "metadata": {
        "id": "zs7mjNoHS_zC"
      },
      "execution_count": 8,
      "outputs": []
    },
    {
      "cell_type": "code",
      "source": [
        "classes = dataset.classes\n",
        "len(classes)"
      ],
      "metadata": {
        "colab": {
          "base_uri": "https://localhost:8080/"
        },
        "id": "aMci27Z8TCYS",
        "outputId": "9d8edd65-3f98-4eb4-bf73-f84f2b571bd9"
      },
      "execution_count": 9,
      "outputs": [
        {
          "output_type": "execute_result",
          "data": {
            "text/plain": [
              "100"
            ]
          },
          "metadata": {},
          "execution_count": 9
        }
      ]
    },
    {
      "cell_type": "code",
      "source": [
        "for image, label in train_dataset:\n",
        "    print(f'image size: {image.shape}\\nimage_tensor:\\n{image}\\nclass: {classes[label]}')\n",
        "    break"
      ],
      "metadata": {
        "colab": {
          "base_uri": "https://localhost:8080/"
        },
        "id": "kld2-XuLTE1s",
        "outputId": "ef16fe3e-f3d1-42e2-fec5-8c239d3e57f7"
      },
      "execution_count": 10,
      "outputs": [
        {
          "output_type": "stream",
          "name": "stdout",
          "text": [
            "image size: torch.Size([3, 32, 32])\n",
            "image_tensor:\n",
            "tensor([[[0.6039, 0.6118, 0.6275,  ..., 0.4824, 0.4863, 0.4824],\n",
            "         [0.6353, 0.6431, 0.6510,  ..., 0.5059, 0.5176, 0.5059],\n",
            "         [0.6510, 0.6549, 0.6667,  ..., 0.5216, 0.5333, 0.5216],\n",
            "         ...,\n",
            "         [0.4314, 0.4588, 0.4980,  ..., 0.4588, 0.4902, 0.4510],\n",
            "         [0.4392, 0.4627, 0.4902,  ..., 0.4784, 0.4784, 0.4510],\n",
            "         [0.4392, 0.4588, 0.4745,  ..., 0.4745, 0.4588, 0.4314]],\n",
            "\n",
            "        [[0.6000, 0.6078, 0.6235,  ..., 0.4627, 0.4627, 0.4627],\n",
            "         [0.6314, 0.6392, 0.6471,  ..., 0.4863, 0.4902, 0.4902],\n",
            "         [0.6471, 0.6510, 0.6627,  ..., 0.5020, 0.5059, 0.5020],\n",
            "         ...,\n",
            "         [0.3843, 0.4157, 0.4510,  ..., 0.4118, 0.4431, 0.4039],\n",
            "         [0.3882, 0.4157, 0.4431,  ..., 0.4314, 0.4314, 0.4039],\n",
            "         [0.3922, 0.4118, 0.4275,  ..., 0.4275, 0.4118, 0.3843]],\n",
            "\n",
            "        [[0.6314, 0.6392, 0.6510,  ..., 0.4863, 0.4824, 0.4824],\n",
            "         [0.6627, 0.6706, 0.6784,  ..., 0.5137, 0.5098, 0.5059],\n",
            "         [0.6784, 0.6824, 0.6941,  ..., 0.5255, 0.5255, 0.5255],\n",
            "         ...,\n",
            "         [0.4000, 0.4314, 0.4667,  ..., 0.4196, 0.4510, 0.4118],\n",
            "         [0.4039, 0.4314, 0.4588,  ..., 0.4392, 0.4392, 0.4118],\n",
            "         [0.4078, 0.4275, 0.4431,  ..., 0.4353, 0.4196, 0.3922]]])\n",
            "class: table\n"
          ]
        }
      ]
    },
    {
      "cell_type": "markdown",
      "source": [
        "**Обучение самописной CNN на CIFAR-100.**"
      ],
      "metadata": {
        "id": "DsTMz1v4TIzS"
      }
    },
    {
      "cell_type": "code",
      "source": [
        "class Net(nn.Module):\n",
        "    def __init__(self):\n",
        "        super(Net, self).__init__()\n",
        "        self.bn1 = nn.BatchNorm2d(3) # 3 input channels\n",
        "        self.conv1 = nn.Conv2d(3, 30, 3) # convolute 3 channels to 25 channels by frame of 3*3\n",
        "                \n",
        "        self.bn2 = nn.BatchNorm2d(30) # batchnorm of 25 channels\n",
        "        self.conv2 = nn.Conv2d(30, 60, 3) # convolute 25 channels to 75 channels by frame of 3*3\n",
        "        \n",
        "        self.bn3 = nn.BatchNorm2d(60) # batchnorm of 75 channels\n",
        "        self.conv3 = nn.Conv2d(60, 100, 2) # convolute 75 channels to 150 channels by frame of 2*2\n",
        "        \n",
        "        self.bn4 = nn.BatchNorm2d(100) # batchnorm of 150 channels\n",
        "        self.conv4 = nn.Conv2d(100, 150, 2) # convolute 150 channels to 300 channels by frame of 2*2\n",
        "        \n",
        "        self.bn5 = nn.BatchNorm2d(150) # batchnorm of 300 channels\n",
        "                \n",
        "        self.dp1 = nn.Dropout(0.25) # dropout for 1 linear with 40% non-trainable params\n",
        "        self.dp2 = nn.Dropout(0.2) # dropout for 2 linear with 30% non-trainable params\n",
        "        self.dp3 = nn.Dropout(0.2) # dropout for 3 linear with 20% non-trainable params\n",
        "        \n",
        "        self.fc1 = nn.Linear(400, 250) # 1th linear layer, 1600 inputs -> 800 outputs\n",
        "        self.fc2 = nn.Linear(450, 200) # 2th linear layer, 800 inputs -> 400 outputs\n",
        "        self.fc3 = nn.Linear(400, 200) # 3th linear layer, 400 inputs -> 200 outputs\n",
        "        self.out = nn.Linear(250, 100) # 4th linear layer, 200 inputs -> 100 outputs\n",
        "            \n",
        "    def forward(self, x):\n",
        "        # 1 layer conv\n",
        "        x = self.bn1(x)\n",
        "        x = self.conv1(x)\n",
        "        x = F.relu(x)\n",
        "        x = F.max_pool2d(x, 2)\n",
        "        \n",
        "        # 2 layer conv\n",
        "        x = self.bn2(x)\n",
        "        x = self.conv2(x)\n",
        "        x = F.leaky_relu(x)\n",
        "        x = F.max_pool2d(x, 2)\n",
        "        \n",
        "        # 3 layer conv\n",
        "        x = self.bn3(x)\n",
        "        x = self.conv3(x)\n",
        "        x = F.relu(x, 0.1)\n",
        "        x = F.max_pool2d(x, 2)\n",
        "        \n",
        "        # 4 layer conv\n",
        "        x = self.bn4(x)\n",
        "                        \n",
        "        # flatten\n",
        "        x = x.view(x.size(0), -1) # transform x to vector\n",
        "        \n",
        "        # 5 layer linear\n",
        "        x = self.dp1(x) \n",
        "        x = self.fc1(x)\n",
        "        x = F.relu(x)\n",
        "        \n",
        "               \n",
        "        return self.out(x)\n",
        "       \n",
        "net = Net()\n",
        "net.cuda()\n",
        "print(net)"
      ],
      "metadata": {
        "colab": {
          "base_uri": "https://localhost:8080/"
        },
        "id": "smMEr0OKTKVC",
        "outputId": "cf2a2c18-79ab-4225-d42d-c20d0021cad1"
      },
      "execution_count": 11,
      "outputs": [
        {
          "output_type": "stream",
          "name": "stdout",
          "text": [
            "Net(\n",
            "  (bn1): BatchNorm2d(3, eps=1e-05, momentum=0.1, affine=True, track_running_stats=True)\n",
            "  (conv1): Conv2d(3, 30, kernel_size=(3, 3), stride=(1, 1))\n",
            "  (bn2): BatchNorm2d(30, eps=1e-05, momentum=0.1, affine=True, track_running_stats=True)\n",
            "  (conv2): Conv2d(30, 60, kernel_size=(3, 3), stride=(1, 1))\n",
            "  (bn3): BatchNorm2d(60, eps=1e-05, momentum=0.1, affine=True, track_running_stats=True)\n",
            "  (conv3): Conv2d(60, 100, kernel_size=(2, 2), stride=(1, 1))\n",
            "  (bn4): BatchNorm2d(100, eps=1e-05, momentum=0.1, affine=True, track_running_stats=True)\n",
            "  (conv4): Conv2d(100, 150, kernel_size=(2, 2), stride=(1, 1))\n",
            "  (bn5): BatchNorm2d(150, eps=1e-05, momentum=0.1, affine=True, track_running_stats=True)\n",
            "  (dp1): Dropout(p=0.25, inplace=False)\n",
            "  (dp2): Dropout(p=0.2, inplace=False)\n",
            "  (dp3): Dropout(p=0.2, inplace=False)\n",
            "  (fc1): Linear(in_features=400, out_features=250, bias=True)\n",
            "  (fc2): Linear(in_features=450, out_features=200, bias=True)\n",
            "  (fc3): Linear(in_features=400, out_features=200, bias=True)\n",
            "  (out): Linear(in_features=250, out_features=100, bias=True)\n",
            ")\n"
          ]
        }
      ]
    },
    {
      "cell_type": "code",
      "source": [
        "optimizer = Adam(net.parameters(), lr=0.01)\n",
        "criterion = nn.CrossEntropyLoss()"
      ],
      "metadata": {
        "id": "AUulk1NfTPA8"
      },
      "execution_count": 12,
      "outputs": []
    },
    {
      "cell_type": "code",
      "source": [
        "num_epochs = 10\n",
        "net.train()\n",
        "\n",
        "for epoch in range(num_epochs):  \n",
        "    running_loss, running_items, running_right = 0.0, 0.0, 0.0\n",
        "    for i, data in enumerate(train_loader, 0):\n",
        "        inputs, labels = data[0].cuda(), data[1].cuda()\n",
        "\n",
        "        # обнуляем градиент\n",
        "        optimizer.zero_grad()\n",
        "\n",
        "        outputs = net(inputs)\n",
        "        loss = criterion(outputs, labels)\n",
        "        loss.backward()\n",
        "        optimizer.step()\n",
        "\n",
        "        # выводим статистику о процессе обучения\n",
        "        running_loss += loss.item()\n",
        "        running_items += len(labels)\n",
        "        running_right += (labels == torch.max(outputs, 1)[1]).sum()\n",
        "        \n",
        "        # выводим статистику о процессе обучения\n",
        "        if i % 300 == 0:    # печатаем каждые 300 mini-batches\n",
        "            net.eval()\n",
        "            \n",
        "            print(f'Epoch [{epoch + 1}/{num_epochs}]. ' \\\n",
        "                  f'Step [{i + 1}/{len(train_loader)}]. ' \\\n",
        "                  f'Loss: {running_loss / running_items:.3f}. ' \\\n",
        "                  f'Acc: {running_right / running_items:.3f}', end='. ')\n",
        "            running_loss, running_items, running_right = 0.0, 0.0, 0.0\n",
        "\n",
        "            test_running_right, test_running_total = 0.0, 0.0\n",
        "            for i, data in enumerate(test_loader):\n",
        "            \n",
        "                test_outputs = net(data[0].cuda())\n",
        "                test_running_total += len(data[1])\n",
        "                test_running_right += (data[1].cuda() == torch.max(test_outputs, 1)[1]).sum()\n",
        "            \n",
        "            print(f'Test acc: {test_running_right / test_running_total:.3f}')\n",
        "        \n",
        "        net.train()\n",
        "        \n",
        "print('Training is finished!')"
      ],
      "metadata": {
        "colab": {
          "base_uri": "https://localhost:8080/"
        },
        "id": "S8N2mRn1TXwi",
        "outputId": "baba9645-f52f-494f-aef4-fb3cfb124a93"
      },
      "execution_count": 13,
      "outputs": [
        {
          "output_type": "stream",
          "name": "stdout",
          "text": [
            "Epoch [1/10]. Step [1/475]. Loss: 0.047. Acc: 0.010. Test acc: 0.007\n",
            "Epoch [1/10]. Step [301/475]. Loss: 0.038. Acc: 0.122. Test acc: 0.160\n",
            "Epoch [2/10]. Step [1/475]. Loss: 0.033. Acc: 0.160. Test acc: 0.204\n",
            "Epoch [2/10]. Step [301/475]. Loss: 0.031. Acc: 0.231. Test acc: 0.247\n",
            "Epoch [3/10]. Step [1/475]. Loss: 0.029. Acc: 0.280. Test acc: 0.262\n",
            "Epoch [3/10]. Step [301/475]. Loss: 0.029. Acc: 0.285. Test acc: 0.283\n",
            "Epoch [4/10]. Step [1/475]. Loss: 0.030. Acc: 0.320. Test acc: 0.297\n",
            "Epoch [4/10]. Step [301/475]. Loss: 0.027. Acc: 0.317. Test acc: 0.298\n",
            "Epoch [5/10]. Step [1/475]. Loss: 0.025. Acc: 0.370. Test acc: 0.313\n",
            "Epoch [5/10]. Step [301/475]. Loss: 0.026. Acc: 0.344. Test acc: 0.330\n",
            "Epoch [6/10]. Step [1/475]. Loss: 0.024. Acc: 0.420. Test acc: 0.340\n",
            "Epoch [6/10]. Step [301/475]. Loss: 0.025. Acc: 0.363. Test acc: 0.338\n",
            "Epoch [7/10]. Step [1/475]. Loss: 0.022. Acc: 0.420. Test acc: 0.348\n",
            "Epoch [7/10]. Step [301/475]. Loss: 0.024. Acc: 0.384. Test acc: 0.359\n",
            "Epoch [8/10]. Step [1/475]. Loss: 0.022. Acc: 0.450. Test acc: 0.350\n",
            "Test acc: 0.353\n",
            "Epoch [9/10]. Step [1/475]. Loss: 0.021. Acc: 0.390. Test acc: 0.388\n",
            "Epoch [9/10]. Step [301/475]. Loss: 0.022. Acc: 0.413. Test acc: 0.356\n",
            "Epoch [10/10]. Step [1/475]. Loss: 0.019. Acc: 0.510. Test acc: 0.367\n",
            "Epoch [10/10]. Step [301/475]. Loss: 0.022. Acc: 0.422. Test acc: 0.376\n",
            "Training is finished!\n"
          ]
        }
      ]
    },
    {
      "cell_type": "markdown",
      "source": [
        "**Обучение CNN на CIFAR-100 через дообучение ImageNet Resnet-50**"
      ],
      "metadata": {
        "id": "gk8-4yRBT5hC"
      }
    },
    {
      "cell_type": "code",
      "source": [
        "model = models.resnet50(pretrained=True)"
      ],
      "metadata": {
        "colab": {
          "base_uri": "https://localhost:8080/",
          "height": 156,
          "referenced_widgets": [
            "96ece63915aa415d8d983a82f81906f9",
            "61954e22a5d64ff085b765c8ed61cc5d",
            "884abfe783984fa1b0ab3bd12974fa31",
            "a9d44e021fb849e5acf04688bc5638c5",
            "977dd45c495d4bc893baf9ab5af36e3a",
            "6fc0adaeb14946b0a407da4a29a30a48",
            "5fdb54cf439e4c61829b6b618d992a16",
            "10b2b34ae3db45039dff7d9298c22a8b",
            "167a41db49444bb6b1bc78d5ce0f49b8",
            "47b350c7508c434eb3cae487fdbf91fb",
            "58476aff16304380bc47bbc4b2098129"
          ]
        },
        "id": "UgCekO3eT77y",
        "outputId": "7302e772-9d86-44ca-805c-a4ff321e3a7e"
      },
      "execution_count": 14,
      "outputs": [
        {
          "output_type": "stream",
          "name": "stderr",
          "text": [
            "/usr/local/lib/python3.9/dist-packages/torchvision/models/_utils.py:208: UserWarning: The parameter 'pretrained' is deprecated since 0.13 and may be removed in the future, please use 'weights' instead.\n",
            "  warnings.warn(\n",
            "/usr/local/lib/python3.9/dist-packages/torchvision/models/_utils.py:223: UserWarning: Arguments other than a weight enum or `None` for 'weights' are deprecated since 0.13 and may be removed in the future. The current behavior is equivalent to passing `weights=ResNet50_Weights.IMAGENET1K_V1`. You can also use `weights=ResNet50_Weights.DEFAULT` to get the most up-to-date weights.\n",
            "  warnings.warn(msg)\n",
            "Downloading: \"https://download.pytorch.org/models/resnet50-0676ba61.pth\" to /root/.cache/torch/hub/checkpoints/resnet50-0676ba61.pth\n"
          ]
        },
        {
          "output_type": "display_data",
          "data": {
            "text/plain": [
              "  0%|          | 0.00/97.8M [00:00<?, ?B/s]"
            ],
            "application/vnd.jupyter.widget-view+json": {
              "version_major": 2,
              "version_minor": 0,
              "model_id": "96ece63915aa415d8d983a82f81906f9"
            }
          },
          "metadata": {}
        }
      ]
    },
    {
      "cell_type": "code",
      "source": [
        "for param in list(model.parameters())[:]:\n",
        "    param.requires_grad = False"
      ],
      "metadata": {
        "id": "WIU-W3NTT_Rz"
      },
      "execution_count": 15,
      "outputs": []
    },
    {
      "cell_type": "code",
      "source": [
        "model.dp1 = nn.Dropout(0.2)\n",
        "model.fc = nn.Linear(2048, 1024)\n",
        "model.dp2 = nn.Dropout(0.2)\n",
        "model.fc2 = nn.Linear(1024, 100)"
      ],
      "metadata": {
        "id": "_st13e0_UC9S"
      },
      "execution_count": 16,
      "outputs": []
    },
    {
      "cell_type": "code",
      "source": [
        "trans_actions = transforms.Compose([transforms.ToTensor(),\n",
        "                                    transforms.Normalize(mean=[0.485, 0.456, 0.406], std=[0.229, 0.224, 0.225])]\n",
        "                                  )\n",
        "test_transforms = transforms.Compose([transforms.ToTensor(),\n",
        "                                       transforms.Normalize(mean=[0.485, 0.456, 0.406], std=[0.229, 0.224, 0.225])]\n",
        "                                     )\n",
        "\n",
        "train_dataset, test_dataset = train_valid_split(dataset)\n",
        "\n",
        "train_dataset = MyOwnCifar(train_dataset, trans_actions)\n",
        "test_dataset = MyOwnCifar(test_dataset, test_transforms)\n",
        "\n",
        "train_loader = DataLoader(train_dataset,\n",
        "                          batch_size=100,\n",
        "                          shuffle=True,\n",
        "                          num_workers=0)\n",
        "test_loader = DataLoader(test_dataset,\n",
        "                         batch_size=100,\n",
        "                         shuffle=False,\n",
        "                         num_workers=0)"
      ],
      "metadata": {
        "id": "GGI0vjptUGsy"
      },
      "execution_count": 17,
      "outputs": []
    },
    {
      "cell_type": "code",
      "source": [
        "optimizer = Adam(model.parameters(), lr=0.01)\n",
        "criterion = nn.CrossEntropyLoss()"
      ],
      "metadata": {
        "id": "WIK-YtScUJ8T"
      },
      "execution_count": 18,
      "outputs": []
    },
    {
      "cell_type": "code",
      "source": [
        "model.cuda()\n",
        "num_epochs = 10\n",
        "model.train()\n",
        "\n",
        "for epoch in range(num_epochs):  \n",
        "    running_loss, running_items, running_right = 0.0, 0.0, 0.0\n",
        "    for i, data in enumerate(train_loader, 0):\n",
        "        inputs, labels = data[0].cuda(), data[1].cuda()\n",
        "\n",
        "        # обнуляем градиент\n",
        "        optimizer.zero_grad()\n",
        "\n",
        "        outputs = model(inputs)\n",
        "        loss = criterion(outputs, labels)\n",
        "        loss.backward()\n",
        "        optimizer.step()\n",
        "\n",
        "        # выводим статистику о процессе обучения\n",
        "        running_loss += loss.item()\n",
        "        running_items += len(labels)\n",
        "        running_right += (labels == torch.max(outputs, 1)[1]).sum()\n",
        "        \n",
        "        # выводим статистику о процессе обучения\n",
        "        if i % 300 == 0:    # печатаем каждые 300 mini-batches\n",
        "            model.eval()\n",
        "            \n",
        "            print(f'Epoch [{epoch + 1}/{num_epochs}]. ' \\\n",
        "                  f'Step [{i + 1}/{len(train_loader)}]. ' \\\n",
        "                  f'Loss: {running_loss / running_items:.3f}. ' \\\n",
        "                  f'Acc: {running_right / running_items:.3f}', end='. ')\n",
        "            running_loss, running_items, running_right = 0.0, 0.0, 0.0\n",
        "\n",
        "            test_running_right, test_running_total = 0.0, 0.0\n",
        "            for i, data in enumerate(test_loader):\n",
        "            \n",
        "                test_outputs = model(data[0].cuda())\n",
        "                test_running_total += len(data[1])\n",
        "                test_running_right += (data[1].cuda() == torch.max(test_outputs, 1)[1]).sum()\n",
        "            \n",
        "            print(f'Test acc: {test_running_right / test_running_total:.3f}')\n",
        "        \n",
        "        model.train()\n",
        "        \n",
        "print('Training is finished!')"
      ],
      "metadata": {
        "colab": {
          "base_uri": "https://localhost:8080/"
        },
        "id": "vZUaGMgvUNOT",
        "outputId": "55e56cb3-6f04-49cc-a1d1-bd8c6d9b6c87"
      },
      "execution_count": 19,
      "outputs": [
        {
          "output_type": "stream",
          "name": "stdout",
          "text": [
            "Epoch [1/10]. Step [1/475]. Loss: 0.071. Acc: 0.000. Test acc: 0.017\n",
            "Epoch [1/10]. Step [301/475]. Loss: 0.071. Acc: 0.154. Test acc: 0.182\n",
            "Epoch [2/10]. Step [1/475]. Loss: 0.067. Acc: 0.240. Test acc: 0.198\n",
            "Epoch [2/10]. Step [301/475]. Loss: 0.070. Acc: 0.222. Test acc: 0.188\n",
            "Epoch [3/10]. Step [1/475]. Loss: 0.059. Acc: 0.310. Test acc: 0.205\n",
            "Epoch [3/10]. Step [301/475]. Loss: 0.069. Acc: 0.248. Test acc: 0.202\n",
            "Epoch [4/10]. Step [1/475]. Loss: 0.071. Acc: 0.300. Test acc: 0.206\n",
            "Epoch [4/10]. Step [301/475]. Loss: 0.067. Acc: 0.268. Test acc: 0.222\n",
            "Epoch [5/10]. Step [1/475]. Loss: 0.068. Acc: 0.260. Test acc: 0.212\n",
            "Epoch [5/10]. Step [301/475]. Loss: 0.067. Acc: 0.279. Test acc: 0.228\n",
            "Epoch [6/10]. Step [1/475]. Loss: 0.051. Acc: 0.470. Test acc: 0.229\n",
            "Epoch [6/10]. Step [301/475]. Loss: 0.067. Acc: 0.292. Test acc: 0.224\n",
            "Epoch [7/10]. Step [1/475]. Loss: 0.056. Acc: 0.440. Test acc: 0.217\n",
            "Epoch [7/10]. Step [301/475]. Loss: 0.066. Acc: 0.307. Test acc: 0.237\n",
            "Epoch [8/10]. Step [1/475]. Loss: 0.068. Acc: 0.290. Test acc: 0.236\n",
            "Epoch [8/10]. Step [301/475]. Loss: 0.067. Acc: 0.311. Test acc: 0.242\n",
            "Epoch [9/10]. Step [1/475]. Loss: 0.057. Acc: 0.330. Test acc: 0.218\n",
            "Epoch [9/10]. Step [301/475]. Loss: 0.066. Acc: 0.320. Test acc: 0.242\n",
            "Epoch [10/10]. Step [1/475]. Loss: 0.057. Acc: 0.370. Test acc: 0.233\n",
            "Epoch [10/10]. Step [301/475]. Loss: 0.067. Acc: 0.324. Test acc: 0.227\n",
            "Training is finished!\n"
          ]
        }
      ]
    },
    {
      "cell_type": "markdown",
      "source": [
        "ImageNet Resnet-50 показывает метрику на тесте ниже (0.24), чем самописная"
      ],
      "metadata": {
        "id": "NBy2Ih5NU9oD"
      }
    }
  ]
}