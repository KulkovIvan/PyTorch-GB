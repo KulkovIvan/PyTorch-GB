{
  "nbformat": 4,
  "nbformat_minor": 0,
  "metadata": {
    "colab": {
      "provenance": []
    },
    "kernelspec": {
      "name": "python3",
      "display_name": "Python 3"
    },
    "language_info": {
      "name": "python"
    },
    "accelerator": "GPU",
    "gpuClass": "standard"
  },
  "cells": [
    {
      "cell_type": "markdown",
      "source": [
        "1. Попробуйте обучить нейронную сеть с применением одномерных сверток для предсказания сентимента сообщений с твитера на примере https://www.kaggle.com/datasets/arkhoshghalb/twitter-sentiment-analysis-hatred-speech\n",
        "\n",
        "2. Опишите, какой результат вы получили? Что помогло вам улучшить ее точность?"
      ],
      "metadata": {
        "id": "dLNZnSMQVQID"
      }
    },
    {
      "cell_type": "markdown",
      "source": [
        "**Подключение библиотек**"
      ],
      "metadata": {
        "id": "MaiRX_j6VYas"
      }
    },
    {
      "cell_type": "code",
      "execution_count": 1,
      "metadata": {
        "colab": {
          "base_uri": "https://localhost:8080/"
        },
        "id": "h7UkY_1SU5td",
        "outputId": "ee1590ae-c724-48c5-a095-fcaf64de19c6"
      },
      "outputs": [
        {
          "output_type": "stream",
          "name": "stdout",
          "text": [
            "Looking in indexes: https://pypi.org/simple, https://us-python.pkg.dev/colab-wheels/public/simple/\n",
            "Collecting stop_words\n",
            "  Downloading stop-words-2018.7.23.tar.gz (31 kB)\n",
            "  Preparing metadata (setup.py) ... \u001b[?25l\u001b[?25hdone\n",
            "Building wheels for collected packages: stop_words\n",
            "  Building wheel for stop_words (setup.py) ... \u001b[?25l\u001b[?25hdone\n",
            "  Created wheel for stop_words: filename=stop_words-2018.7.23-py3-none-any.whl size=32910 sha256=00ae5a8874e383046fcc92e1ae82b8bb8fdb341b2b3a0155adeded2ed4e4dd37\n",
            "  Stored in directory: /root/.cache/pip/wheels/da/d8/66/395317506a23a9d1d7de433ad6a7d9e6e16aab48cf028a0f60\n",
            "Successfully built stop_words\n",
            "Installing collected packages: stop_words\n",
            "Successfully installed stop_words-2018.7.23\n"
          ]
        }
      ],
      "source": [
        "! pip install stop_words"
      ]
    },
    {
      "cell_type": "code",
      "source": [
        "import torch\n",
        "import torch.nn as nn\n",
        "import torch.nn.functional as F\n",
        "from torch.utils.data import DataLoader, Dataset\n",
        "\n",
        "import pandas as pd\n",
        "import numpy as np\n",
        "import matplotlib.pyplot as plt\n",
        "from sklearn.model_selection import train_test_split\n",
        "\n",
        "import re\n",
        "from tqdm import tqdm \n",
        "\n",
        "import nltk\n",
        "from nltk.tokenize import word_tokenize\n",
        "from string import punctuation\n",
        "from stop_words import get_stop_words\n",
        "from nltk.stem import WordNetLemmatizer\n",
        "from nltk.probability import FreqDist\n",
        "\n",
        "import warnings\n",
        "warnings.filterwarnings('ignore')"
      ],
      "metadata": {
        "id": "cln1aN1iVflD"
      },
      "execution_count": 2,
      "outputs": []
    },
    {
      "cell_type": "code",
      "source": [
        "nltk.download('wordnet')"
      ],
      "metadata": {
        "colab": {
          "base_uri": "https://localhost:8080/"
        },
        "id": "o-PoPoClVjF8",
        "outputId": "18945019-f9bf-470c-dbf1-62313bafafc2"
      },
      "execution_count": 3,
      "outputs": [
        {
          "output_type": "stream",
          "name": "stderr",
          "text": [
            "[nltk_data] Downloading package wordnet to /root/nltk_data...\n"
          ]
        },
        {
          "output_type": "execute_result",
          "data": {
            "text/plain": [
              "True"
            ]
          },
          "metadata": {},
          "execution_count": 3
        }
      ]
    },
    {
      "cell_type": "code",
      "source": [
        "nltk.download('punkt')"
      ],
      "metadata": {
        "colab": {
          "base_uri": "https://localhost:8080/"
        },
        "id": "-AwpZOYoVkXD",
        "outputId": "b69dc494-cfd2-4fa3-e933-9b6216647910"
      },
      "execution_count": 5,
      "outputs": [
        {
          "output_type": "stream",
          "name": "stderr",
          "text": [
            "[nltk_data] Downloading package punkt to /root/nltk_data...\n",
            "[nltk_data]   Package punkt is already up-to-date!\n"
          ]
        },
        {
          "output_type": "execute_result",
          "data": {
            "text/plain": [
              "True"
            ]
          },
          "metadata": {},
          "execution_count": 5
        }
      ]
    },
    {
      "cell_type": "code",
      "source": [
        "from google.colab import drive\n",
        "drive.mount('/content/drive')"
      ],
      "metadata": {
        "colab": {
          "base_uri": "https://localhost:8080/"
        },
        "id": "pmnmSTuUVy9L",
        "outputId": "93f0c331-f735-4be3-f2b8-839f384b93ea"
      },
      "execution_count": 7,
      "outputs": [
        {
          "output_type": "stream",
          "name": "stdout",
          "text": [
            "Mounted at /content/drive\n"
          ]
        }
      ]
    },
    {
      "cell_type": "markdown",
      "source": [
        "Загрузка и подготовка данных"
      ],
      "metadata": {
        "id": "T8XN5VqgWFTV"
      }
    },
    {
      "cell_type": "code",
      "source": [
        "# Загрузим тестовый и тренировочный датасеты с твитами\n",
        "train_df = pd.read_csv('/content/drive/MyDrive/Twitter Sentiment Analysis/train.csv')\n",
        "test_df = pd.read_csv('/content/drive/MyDrive/Twitter Sentiment Analysis/test.csv')\n",
        "train_df.shape, test_df.shape"
      ],
      "metadata": {
        "colab": {
          "base_uri": "https://localhost:8080/"
        },
        "id": "MeN_CiDBWHS8",
        "outputId": "72950724-3e64-4ac0-832f-536820508689"
      },
      "execution_count": 9,
      "outputs": [
        {
          "output_type": "execute_result",
          "data": {
            "text/plain": [
              "((31962, 3), (17197, 2))"
            ]
          },
          "metadata": {},
          "execution_count": 9
        }
      ]
    },
    {
      "cell_type": "code",
      "source": [
        "train_df.head()"
      ],
      "metadata": {
        "colab": {
          "base_uri": "https://localhost:8080/",
          "height": 206
        },
        "id": "4YpxI5wJXCWD",
        "outputId": "dba6af26-787f-42ef-d747-9f82b23ef767"
      },
      "execution_count": 10,
      "outputs": [
        {
          "output_type": "execute_result",
          "data": {
            "text/plain": [
              "   id  label                                              tweet\n",
              "0   1      0   @user when a father is dysfunctional and is s...\n",
              "1   2      0  @user @user thanks for #lyft credit i can't us...\n",
              "2   3      0                                bihday your majesty\n",
              "3   4      0  #model   i love u take with u all the time in ...\n",
              "4   5      0             factsguide: society now    #motivation"
            ],
            "text/html": [
              "\n",
              "  <div id=\"df-59de805a-6ffd-47b1-9b97-bc1c188ebd9f\">\n",
              "    <div class=\"colab-df-container\">\n",
              "      <div>\n",
              "<style scoped>\n",
              "    .dataframe tbody tr th:only-of-type {\n",
              "        vertical-align: middle;\n",
              "    }\n",
              "\n",
              "    .dataframe tbody tr th {\n",
              "        vertical-align: top;\n",
              "    }\n",
              "\n",
              "    .dataframe thead th {\n",
              "        text-align: right;\n",
              "    }\n",
              "</style>\n",
              "<table border=\"1\" class=\"dataframe\">\n",
              "  <thead>\n",
              "    <tr style=\"text-align: right;\">\n",
              "      <th></th>\n",
              "      <th>id</th>\n",
              "      <th>label</th>\n",
              "      <th>tweet</th>\n",
              "    </tr>\n",
              "  </thead>\n",
              "  <tbody>\n",
              "    <tr>\n",
              "      <th>0</th>\n",
              "      <td>1</td>\n",
              "      <td>0</td>\n",
              "      <td>@user when a father is dysfunctional and is s...</td>\n",
              "    </tr>\n",
              "    <tr>\n",
              "      <th>1</th>\n",
              "      <td>2</td>\n",
              "      <td>0</td>\n",
              "      <td>@user @user thanks for #lyft credit i can't us...</td>\n",
              "    </tr>\n",
              "    <tr>\n",
              "      <th>2</th>\n",
              "      <td>3</td>\n",
              "      <td>0</td>\n",
              "      <td>bihday your majesty</td>\n",
              "    </tr>\n",
              "    <tr>\n",
              "      <th>3</th>\n",
              "      <td>4</td>\n",
              "      <td>0</td>\n",
              "      <td>#model   i love u take with u all the time in ...</td>\n",
              "    </tr>\n",
              "    <tr>\n",
              "      <th>4</th>\n",
              "      <td>5</td>\n",
              "      <td>0</td>\n",
              "      <td>factsguide: society now    #motivation</td>\n",
              "    </tr>\n",
              "  </tbody>\n",
              "</table>\n",
              "</div>\n",
              "      <button class=\"colab-df-convert\" onclick=\"convertToInteractive('df-59de805a-6ffd-47b1-9b97-bc1c188ebd9f')\"\n",
              "              title=\"Convert this dataframe to an interactive table.\"\n",
              "              style=\"display:none;\">\n",
              "        \n",
              "  <svg xmlns=\"http://www.w3.org/2000/svg\" height=\"24px\"viewBox=\"0 0 24 24\"\n",
              "       width=\"24px\">\n",
              "    <path d=\"M0 0h24v24H0V0z\" fill=\"none\"/>\n",
              "    <path d=\"M18.56 5.44l.94 2.06.94-2.06 2.06-.94-2.06-.94-.94-2.06-.94 2.06-2.06.94zm-11 1L8.5 8.5l.94-2.06 2.06-.94-2.06-.94L8.5 2.5l-.94 2.06-2.06.94zm10 10l.94 2.06.94-2.06 2.06-.94-2.06-.94-.94-2.06-.94 2.06-2.06.94z\"/><path d=\"M17.41 7.96l-1.37-1.37c-.4-.4-.92-.59-1.43-.59-.52 0-1.04.2-1.43.59L10.3 9.45l-7.72 7.72c-.78.78-.78 2.05 0 2.83L4 21.41c.39.39.9.59 1.41.59.51 0 1.02-.2 1.41-.59l7.78-7.78 2.81-2.81c.8-.78.8-2.07 0-2.86zM5.41 20L4 18.59l7.72-7.72 1.47 1.35L5.41 20z\"/>\n",
              "  </svg>\n",
              "      </button>\n",
              "      \n",
              "  <style>\n",
              "    .colab-df-container {\n",
              "      display:flex;\n",
              "      flex-wrap:wrap;\n",
              "      gap: 12px;\n",
              "    }\n",
              "\n",
              "    .colab-df-convert {\n",
              "      background-color: #E8F0FE;\n",
              "      border: none;\n",
              "      border-radius: 50%;\n",
              "      cursor: pointer;\n",
              "      display: none;\n",
              "      fill: #1967D2;\n",
              "      height: 32px;\n",
              "      padding: 0 0 0 0;\n",
              "      width: 32px;\n",
              "    }\n",
              "\n",
              "    .colab-df-convert:hover {\n",
              "      background-color: #E2EBFA;\n",
              "      box-shadow: 0px 1px 2px rgba(60, 64, 67, 0.3), 0px 1px 3px 1px rgba(60, 64, 67, 0.15);\n",
              "      fill: #174EA6;\n",
              "    }\n",
              "\n",
              "    [theme=dark] .colab-df-convert {\n",
              "      background-color: #3B4455;\n",
              "      fill: #D2E3FC;\n",
              "    }\n",
              "\n",
              "    [theme=dark] .colab-df-convert:hover {\n",
              "      background-color: #434B5C;\n",
              "      box-shadow: 0px 1px 3px 1px rgba(0, 0, 0, 0.15);\n",
              "      filter: drop-shadow(0px 1px 2px rgba(0, 0, 0, 0.3));\n",
              "      fill: #FFFFFF;\n",
              "    }\n",
              "  </style>\n",
              "\n",
              "      <script>\n",
              "        const buttonEl =\n",
              "          document.querySelector('#df-59de805a-6ffd-47b1-9b97-bc1c188ebd9f button.colab-df-convert');\n",
              "        buttonEl.style.display =\n",
              "          google.colab.kernel.accessAllowed ? 'block' : 'none';\n",
              "\n",
              "        async function convertToInteractive(key) {\n",
              "          const element = document.querySelector('#df-59de805a-6ffd-47b1-9b97-bc1c188ebd9f');\n",
              "          const dataTable =\n",
              "            await google.colab.kernel.invokeFunction('convertToInteractive',\n",
              "                                                     [key], {});\n",
              "          if (!dataTable) return;\n",
              "\n",
              "          const docLinkHtml = 'Like what you see? Visit the ' +\n",
              "            '<a target=\"_blank\" href=https://colab.research.google.com/notebooks/data_table.ipynb>data table notebook</a>'\n",
              "            + ' to learn more about interactive tables.';\n",
              "          element.innerHTML = '';\n",
              "          dataTable['output_type'] = 'display_data';\n",
              "          await google.colab.output.renderOutput(dataTable, element);\n",
              "          const docLink = document.createElement('div');\n",
              "          docLink.innerHTML = docLinkHtml;\n",
              "          element.appendChild(docLink);\n",
              "        }\n",
              "      </script>\n",
              "    </div>\n",
              "  </div>\n",
              "  "
            ]
          },
          "metadata": {},
          "execution_count": 10
        }
      ]
    },
    {
      "cell_type": "code",
      "source": [
        "test_df.head(3)"
      ],
      "metadata": {
        "colab": {
          "base_uri": "https://localhost:8080/",
          "height": 143
        },
        "id": "3QDSNA1lXFXj",
        "outputId": "8535f124-3295-48a4-e08c-bf3e660ae3b7"
      },
      "execution_count": 11,
      "outputs": [
        {
          "output_type": "execute_result",
          "data": {
            "text/plain": [
              "      id                                              tweet\n",
              "0  31963  #studiolife #aislife #requires #passion #dedic...\n",
              "1  31964   @user #white #supremacists want everyone to s...\n",
              "2  31965  safe ways to heal your #acne!!    #altwaystohe..."
            ],
            "text/html": [
              "\n",
              "  <div id=\"df-3510748e-09e7-4289-affe-8c63dbdb6a15\">\n",
              "    <div class=\"colab-df-container\">\n",
              "      <div>\n",
              "<style scoped>\n",
              "    .dataframe tbody tr th:only-of-type {\n",
              "        vertical-align: middle;\n",
              "    }\n",
              "\n",
              "    .dataframe tbody tr th {\n",
              "        vertical-align: top;\n",
              "    }\n",
              "\n",
              "    .dataframe thead th {\n",
              "        text-align: right;\n",
              "    }\n",
              "</style>\n",
              "<table border=\"1\" class=\"dataframe\">\n",
              "  <thead>\n",
              "    <tr style=\"text-align: right;\">\n",
              "      <th></th>\n",
              "      <th>id</th>\n",
              "      <th>tweet</th>\n",
              "    </tr>\n",
              "  </thead>\n",
              "  <tbody>\n",
              "    <tr>\n",
              "      <th>0</th>\n",
              "      <td>31963</td>\n",
              "      <td>#studiolife #aislife #requires #passion #dedic...</td>\n",
              "    </tr>\n",
              "    <tr>\n",
              "      <th>1</th>\n",
              "      <td>31964</td>\n",
              "      <td>@user #white #supremacists want everyone to s...</td>\n",
              "    </tr>\n",
              "    <tr>\n",
              "      <th>2</th>\n",
              "      <td>31965</td>\n",
              "      <td>safe ways to heal your #acne!!    #altwaystohe...</td>\n",
              "    </tr>\n",
              "  </tbody>\n",
              "</table>\n",
              "</div>\n",
              "      <button class=\"colab-df-convert\" onclick=\"convertToInteractive('df-3510748e-09e7-4289-affe-8c63dbdb6a15')\"\n",
              "              title=\"Convert this dataframe to an interactive table.\"\n",
              "              style=\"display:none;\">\n",
              "        \n",
              "  <svg xmlns=\"http://www.w3.org/2000/svg\" height=\"24px\"viewBox=\"0 0 24 24\"\n",
              "       width=\"24px\">\n",
              "    <path d=\"M0 0h24v24H0V0z\" fill=\"none\"/>\n",
              "    <path d=\"M18.56 5.44l.94 2.06.94-2.06 2.06-.94-2.06-.94-.94-2.06-.94 2.06-2.06.94zm-11 1L8.5 8.5l.94-2.06 2.06-.94-2.06-.94L8.5 2.5l-.94 2.06-2.06.94zm10 10l.94 2.06.94-2.06 2.06-.94-2.06-.94-.94-2.06-.94 2.06-2.06.94z\"/><path d=\"M17.41 7.96l-1.37-1.37c-.4-.4-.92-.59-1.43-.59-.52 0-1.04.2-1.43.59L10.3 9.45l-7.72 7.72c-.78.78-.78 2.05 0 2.83L4 21.41c.39.39.9.59 1.41.59.51 0 1.02-.2 1.41-.59l7.78-7.78 2.81-2.81c.8-.78.8-2.07 0-2.86zM5.41 20L4 18.59l7.72-7.72 1.47 1.35L5.41 20z\"/>\n",
              "  </svg>\n",
              "      </button>\n",
              "      \n",
              "  <style>\n",
              "    .colab-df-container {\n",
              "      display:flex;\n",
              "      flex-wrap:wrap;\n",
              "      gap: 12px;\n",
              "    }\n",
              "\n",
              "    .colab-df-convert {\n",
              "      background-color: #E8F0FE;\n",
              "      border: none;\n",
              "      border-radius: 50%;\n",
              "      cursor: pointer;\n",
              "      display: none;\n",
              "      fill: #1967D2;\n",
              "      height: 32px;\n",
              "      padding: 0 0 0 0;\n",
              "      width: 32px;\n",
              "    }\n",
              "\n",
              "    .colab-df-convert:hover {\n",
              "      background-color: #E2EBFA;\n",
              "      box-shadow: 0px 1px 2px rgba(60, 64, 67, 0.3), 0px 1px 3px 1px rgba(60, 64, 67, 0.15);\n",
              "      fill: #174EA6;\n",
              "    }\n",
              "\n",
              "    [theme=dark] .colab-df-convert {\n",
              "      background-color: #3B4455;\n",
              "      fill: #D2E3FC;\n",
              "    }\n",
              "\n",
              "    [theme=dark] .colab-df-convert:hover {\n",
              "      background-color: #434B5C;\n",
              "      box-shadow: 0px 1px 3px 1px rgba(0, 0, 0, 0.15);\n",
              "      filter: drop-shadow(0px 1px 2px rgba(0, 0, 0, 0.3));\n",
              "      fill: #FFFFFF;\n",
              "    }\n",
              "  </style>\n",
              "\n",
              "      <script>\n",
              "        const buttonEl =\n",
              "          document.querySelector('#df-3510748e-09e7-4289-affe-8c63dbdb6a15 button.colab-df-convert');\n",
              "        buttonEl.style.display =\n",
              "          google.colab.kernel.accessAllowed ? 'block' : 'none';\n",
              "\n",
              "        async function convertToInteractive(key) {\n",
              "          const element = document.querySelector('#df-3510748e-09e7-4289-affe-8c63dbdb6a15');\n",
              "          const dataTable =\n",
              "            await google.colab.kernel.invokeFunction('convertToInteractive',\n",
              "                                                     [key], {});\n",
              "          if (!dataTable) return;\n",
              "\n",
              "          const docLinkHtml = 'Like what you see? Visit the ' +\n",
              "            '<a target=\"_blank\" href=https://colab.research.google.com/notebooks/data_table.ipynb>data table notebook</a>'\n",
              "            + ' to learn more about interactive tables.';\n",
              "          element.innerHTML = '';\n",
              "          dataTable['output_type'] = 'display_data';\n",
              "          await google.colab.output.renderOutput(dataTable, element);\n",
              "          const docLink = document.createElement('div');\n",
              "          docLink.innerHTML = docLinkHtml;\n",
              "          element.appendChild(docLink);\n",
              "        }\n",
              "      </script>\n",
              "    </div>\n",
              "  </div>\n",
              "  "
            ]
          },
          "metadata": {},
          "execution_count": 11
        }
      ]
    },
    {
      "cell_type": "code",
      "source": [
        "# разделим данные на тренировочные и тестовые\n",
        "X_train, X_valid = train_test_split(train_df, test_size=0.3, random_state=42)\n",
        "X_train.shape, X_valid.shape"
      ],
      "metadata": {
        "colab": {
          "base_uri": "https://localhost:8080/"
        },
        "id": "aTmtstjEXIes",
        "outputId": "01eaa816-0107-45aa-db57-5fb3b92674ce"
      },
      "execution_count": 12,
      "outputs": [
        {
          "output_type": "execute_result",
          "data": {
            "text/plain": [
              "((22373, 3), (9589, 3))"
            ]
          },
          "metadata": {},
          "execution_count": 12
        }
      ]
    },
    {
      "cell_type": "code",
      "source": [
        "# посмотрим распределение классов\n",
        "X_train.label.value_counts()"
      ],
      "metadata": {
        "colab": {
          "base_uri": "https://localhost:8080/"
        },
        "id": "d8dMBFihXKur",
        "outputId": "58f2de05-7165-446b-d554-ee5e4a6b8bc4"
      },
      "execution_count": 13,
      "outputs": [
        {
          "output_type": "execute_result",
          "data": {
            "text/plain": [
              "0    20815\n",
              "1     1558\n",
              "Name: label, dtype: int64"
            ]
          },
          "metadata": {},
          "execution_count": 13
        }
      ]
    },
    {
      "cell_type": "code",
      "source": [
        "X_valid.label.value_counts()"
      ],
      "metadata": {
        "colab": {
          "base_uri": "https://localhost:8080/"
        },
        "id": "4pysx9fSXMUD",
        "outputId": "9723defe-f862-4dbb-b7e4-dbfea2541969"
      },
      "execution_count": 14,
      "outputs": [
        {
          "output_type": "execute_result",
          "data": {
            "text/plain": [
              "0    8905\n",
              "1     684\n",
              "Name: label, dtype: int64"
            ]
          },
          "metadata": {},
          "execution_count": 14
        }
      ]
    },
    {
      "cell_type": "code",
      "source": [
        "# список стоп-слов и знаков пунктуации\n",
        "stop_words = set(get_stop_words('en'))\n",
        "puncts = set(punctuation)"
      ],
      "metadata": {
        "id": "ZrYaa53BXNaD"
      },
      "execution_count": 15,
      "outputs": []
    },
    {
      "cell_type": "code",
      "source": [
        "morpher = WordNetLemmatizer()\n",
        "def preprocess_text(txt):\n",
        "    txt = str(txt)\n",
        "    # удаляем знаки препинания\n",
        "    txt = ''.join(symbol for symbol in txt if symbol not in puncts)\n",
        "    txt = txt.lower()\n",
        "    # удаляем слова из стоп-листа\n",
        "    txt = [morpher.lemmatize(word) for word in txt.split() if word not in stop_words]\n",
        "    return ' '.join(txt)"
      ],
      "metadata": {
        "id": "blnIKzTiXQLj"
      },
      "execution_count": 16,
      "outputs": []
    },
    {
      "cell_type": "code",
      "source": [
        "tqdm.pandas()\n",
        "\n",
        "X_train['tweet'] = X_train['tweet'].progress_apply(preprocess_text)\n",
        "X_valid['tweet'] = X_valid['tweet'].progress_apply(preprocess_text)\n",
        "test_df['tweet'] = test_df['tweet'].progress_apply(preprocess_text)"
      ],
      "metadata": {
        "colab": {
          "base_uri": "https://localhost:8080/"
        },
        "id": "JOiq6ifHXSjE",
        "outputId": "6bf33e26-d501-43cd-ba62-ff7e0fdb8213"
      },
      "execution_count": 17,
      "outputs": [
        {
          "output_type": "stream",
          "name": "stderr",
          "text": [
            "100%|██████████| 22373/22373 [00:02<00:00, 9650.64it/s] \n",
            "100%|██████████| 9589/9589 [00:00<00:00, 23612.99it/s]\n",
            "100%|██████████| 17197/17197 [00:00<00:00, 24215.20it/s]\n"
          ]
        }
      ]
    },
    {
      "cell_type": "code",
      "source": [
        "# генерация токенов\n",
        "tokens = word_tokenize(\" \".join(X_train[\"tweet\"]).lower())\n",
        "tokens[:10]"
      ],
      "metadata": {
        "colab": {
          "base_uri": "https://localhost:8080/"
        },
        "id": "cJrB6yY7XW4k",
        "outputId": "fb61e30b-13f0-41a0-fdb6-ac434894e212"
      },
      "execution_count": 18,
      "outputs": [
        {
          "output_type": "execute_result",
          "data": {
            "text/plain": [
              "['summer',\n",
              " 'timeð\\x9f\\x8c',\n",
              " 'summeriscoming',\n",
              " 'swimming',\n",
              " 'picoftheday',\n",
              " 'tattoo',\n",
              " 'issho',\n",
              " 'pulsera',\n",
              " 'fluyendo',\n",
              " 'â\\x80¦']"
            ]
          },
          "metadata": {},
          "execution_count": 18
        }
      ]
    },
    {
      "cell_type": "code",
      "source": [
        "# фильтр, чтобы оставить только цифры и слова\n",
        "tokens_filtered = [word for word in tokens if word.isalnum()]\n",
        "tokens_filtered[:10]"
      ],
      "metadata": {
        "colab": {
          "base_uri": "https://localhost:8080/"
        },
        "id": "RUok_lDCXZPL",
        "outputId": "87d4d468-722e-4543-b20a-c58757db33b8"
      },
      "execution_count": 19,
      "outputs": [
        {
          "output_type": "execute_result",
          "data": {
            "text/plain": [
              "['summer',\n",
              " 'summeriscoming',\n",
              " 'swimming',\n",
              " 'picoftheday',\n",
              " 'tattoo',\n",
              " 'issho',\n",
              " 'pulsera',\n",
              " 'fluyendo',\n",
              " 'dese',\n",
              " 'nigga']"
            ]
          },
          "metadata": {},
          "execution_count": 19
        }
      ]
    },
    {
      "cell_type": "code",
      "source": [
        "# частота вхождения токенов\n",
        "dist = FreqDist(tokens_filtered)"
      ],
      "metadata": {
        "id": "tZpPi3tiXbVL"
      },
      "execution_count": 20,
      "outputs": []
    },
    {
      "cell_type": "code",
      "source": [
        "# топ частых слов\n",
        "max_words = 2000\n",
        "# 2000 самых частых\n",
        "tokens_filtered_top = [pair[0] for pair in dist.most_common(max_words-1)]  # вычитание 1 для padding\n",
        "len(tokens_filtered_top), tokens_filtered_top[:10]"
      ],
      "metadata": {
        "colab": {
          "base_uri": "https://localhost:8080/"
        },
        "id": "H8jEehteXdnE",
        "outputId": "76090ab7-e744-4853-aa59-6d98a6e3b528"
      },
      "execution_count": 21,
      "outputs": [
        {
          "output_type": "execute_result",
          "data": {
            "text/plain": [
              "(1999,\n",
              " ['user', 'love', 'day', 'happy', 'u', 'amp', 'just', 'will', 'time', 'life'])"
            ]
          },
          "metadata": {},
          "execution_count": 21
        }
      ]
    },
    {
      "cell_type": "code",
      "source": [
        "# словарь из частых слов и присвоение им индексов\n",
        "vocabulary = {token: index for index, token in dict(enumerate(tokens_filtered_top, 1)).items()}\n",
        "for token, idx in vocabulary.items():\n",
        "    print(f'{token}: {idx}')\n",
        "    if idx == 10:\n",
        "        break"
      ],
      "metadata": {
        "colab": {
          "base_uri": "https://localhost:8080/"
        },
        "id": "xmzL5vIzXfmM",
        "outputId": "8a21a7fa-9c27-4c57-a4de-4e46b9e30db6"
      },
      "execution_count": 22,
      "outputs": [
        {
          "output_type": "stream",
          "name": "stdout",
          "text": [
            "user: 1\n",
            "love: 2\n",
            "day: 3\n",
            "happy: 4\n",
            "u: 5\n",
            "amp: 6\n",
            "just: 7\n",
            "will: 8\n",
            "time: 9\n",
            "life: 10\n"
          ]
        }
      ]
    },
    {
      "cell_type": "code",
      "source": [
        "# преобразование текста в последовательность\n",
        "def text_to_sequence(text, maxlen):\n",
        "    result = []\n",
        "    tokens = word_tokenize(text.lower())  # токенизация\n",
        "    tokens_filtered = [word for word in tokens if word.isalnum()] # фильтруем (только буквы и цифры)\n",
        "    for word in tokens_filtered:\n",
        "        if word in vocabulary:\n",
        "            result.append(vocabulary[word]) # если слово в топе токенов, то добавляем его индекс в результат\n",
        "\n",
        "    padding = [0] * (maxlen-len(result)) # нули дополняющие до maxlen\n",
        "    return result[-maxlen:] + padding"
      ],
      "metadata": {
        "id": "pHK8vzkwXiAE"
      },
      "execution_count": 23,
      "outputs": []
    },
    {
      "cell_type": "code",
      "source": [
        "max_len = 20\n",
        "x_train = np.asarray([text_to_sequence(text, max_len) for text in X_train['tweet']])\n",
        "x_valid = np.asarray([text_to_sequence(text, max_len) for text in X_valid['tweet']])\n",
        "x_test = np.asarray([text_to_sequence(text, max_len) for text in test_df['tweet']])\n",
        "\n",
        "x_train.shape, x_valid.shape, x_test.shape"
      ],
      "metadata": {
        "colab": {
          "base_uri": "https://localhost:8080/"
        },
        "id": "B3hzf65yXkTt",
        "outputId": "58d8d198-89db-4d4d-a30c-fc445165e312"
      },
      "execution_count": 24,
      "outputs": [
        {
          "output_type": "execute_result",
          "data": {
            "text/plain": [
              "((22373, 20), (9589, 20), (17197, 20))"
            ]
          },
          "metadata": {},
          "execution_count": 24
        }
      ]
    },
    {
      "cell_type": "code",
      "source": [
        "class DataWrapper(Dataset):\n",
        "    def __init__(self, data, target, transform=None):\n",
        "        self.data = torch.from_numpy(data).long() # преобразуем в целочисленный тензор\n",
        "        self.target = torch.from_numpy(target).long() # преобразуем в целочисленный тензор\n",
        "        self.transform = transform\n",
        "        \n",
        "    def __getitem__(self, index):\n",
        "        x = self.data[index]  # индексация данных\n",
        "        y = self.target[index]  # индексация целевой переменной\n",
        "        \n",
        "        if self.transform:\n",
        "            x = self.transform(x)\n",
        "            \n",
        "        return x, y\n",
        "    \n",
        "    def __len__(self):\n",
        "        return len(self.data)"
      ],
      "metadata": {
        "id": "1bVQSaOFXqfk"
      },
      "execution_count": 25,
      "outputs": []
    },
    {
      "cell_type": "code",
      "source": [
        "train_dataset = DataWrapper(x_train, X_train.label.values)\n",
        "train_loader = DataLoader(train_dataset, batch_size=100, shuffle=True)\n",
        "\n",
        "valid_dataset = DataWrapper(x_valid, X_valid.label.values)\n",
        "valid_loader = DataLoader(valid_dataset, batch_size=8, shuffle=True)"
      ],
      "metadata": {
        "id": "_2-YDBZmXsfl"
      },
      "execution_count": 26,
      "outputs": []
    },
    {
      "cell_type": "markdown",
      "source": [
        "**Построение и обучение модели**"
      ],
      "metadata": {
        "id": "GULv7AMpXu0L"
      }
    },
    {
      "cell_type": "code",
      "source": [
        "class Net(nn.Module):\n",
        "    def __init__(self, vocab_size=2000, embedding_dim=128, out_channel=128, num_classes = 1):\n",
        "        super().__init__()\n",
        "        self.embedding = nn.Embedding(vocab_size, embedding_dim)\n",
        "        self.conv_1 = nn.Conv1d(embedding_dim, out_channel, kernel_size=2)\n",
        "        self.conv_2 = nn.Conv1d(embedding_dim, out_channel, kernel_size=3)\n",
        "        self.pool = nn.MaxPool1d(2)\n",
        "        self.relu = nn.ReLU()\n",
        "        self.linear_1 = nn.Linear(out_channel, out_channel // 2)\n",
        "        self.linear_2 = nn.Linear(out_channel // 2, num_classes)\n",
        "        \n",
        "    def forward(self, x):        \n",
        "        output = self.embedding(x) # B, L, E\n",
        "        #                       B  E  L         \n",
        "        output = output.permute(0, 2, 1)\n",
        "        output = self.conv_1(output)\n",
        "        output = self.relu(output)\n",
        "        output = self.pool(output)\n",
        "\n",
        "        output = self.conv_2(output)\n",
        "        output = self.relu(output)\n",
        "        output = self.pool(output)\n",
        "        output = torch.max(output, axis=2).values\n",
        "        output = self.linear_1(output)\n",
        "        output = self.relu(output)\n",
        "        output = self.linear_2(output)\n",
        "        output = torch.sigmoid(output)\n",
        "        return output"
      ],
      "metadata": {
        "id": "wB8QAeG6Xwd9"
      },
      "execution_count": 27,
      "outputs": []
    },
    {
      "cell_type": "code",
      "source": [
        "device = torch.device('cuda:0' if torch.cuda.is_available() else 'cpu')\n",
        "device"
      ],
      "metadata": {
        "colab": {
          "base_uri": "https://localhost:8080/"
        },
        "id": "HHlb4KAzXy60",
        "outputId": "1b1803dc-0d08-4a85-a6a0-1dda92cb5a85"
      },
      "execution_count": 28,
      "outputs": [
        {
          "output_type": "execute_result",
          "data": {
            "text/plain": [
              "device(type='cuda', index=0)"
            ]
          },
          "metadata": {},
          "execution_count": 28
        }
      ]
    },
    {
      "cell_type": "code",
      "source": [
        "model = Net().to(device)\n",
        "print(model)"
      ],
      "metadata": {
        "colab": {
          "base_uri": "https://localhost:8080/"
        },
        "id": "_QSDiFa5X1iL",
        "outputId": "893dd075-b290-45bc-a6aa-5e8d758e5aee"
      },
      "execution_count": 29,
      "outputs": [
        {
          "output_type": "stream",
          "name": "stdout",
          "text": [
            "Net(\n",
            "  (embedding): Embedding(2000, 128)\n",
            "  (conv_1): Conv1d(128, 128, kernel_size=(2,), stride=(1,))\n",
            "  (conv_2): Conv1d(128, 128, kernel_size=(3,), stride=(1,))\n",
            "  (pool): MaxPool1d(kernel_size=2, stride=2, padding=0, dilation=1, ceil_mode=False)\n",
            "  (relu): ReLU()\n",
            "  (linear_1): Linear(in_features=128, out_features=64, bias=True)\n",
            "  (linear_2): Linear(in_features=64, out_features=1, bias=True)\n",
            ")\n"
          ]
        }
      ]
    },
    {
      "cell_type": "code",
      "source": [
        "optimizer = torch.optim.Adam(model.parameters(), lr=1e-4)\n",
        "criterion = nn.BCELoss() "
      ],
      "metadata": {
        "id": "bBQg1bfTX4KE"
      },
      "execution_count": 30,
      "outputs": []
    },
    {
      "cell_type": "code",
      "source": [
        "#обучение модели\n",
        "model.train()\n",
        "th = 0.5\n",
        "epochs = 10\n",
        "\n",
        "train_loss_history = []\n",
        "valid_loss_history = []\n",
        "\n",
        "\n",
        "for epoch in range(epochs):  \n",
        "    running_items, running_right = 0.0, 0.0\n",
        "    for i, data in enumerate(train_loader, 0):\n",
        "        inputs, labels = data[0].to(device), data[1].to(device)\n",
        "        \n",
        "        # обучение\n",
        "        optimizer.zero_grad()\n",
        "        outputs = model(inputs)\n",
        "        loss = criterion(outputs, labels.float().view(-1, 1))\n",
        "        loss.backward()\n",
        "        optimizer.step()\n",
        "\n",
        "        # подсчет ошибки на обучении\n",
        "        loss = loss.item()\n",
        "        running_items += len(labels)\n",
        "       \n",
        "        # подсчет метрики на обучении\n",
        "        pred_labels = torch.squeeze((outputs > th).int())\n",
        "        running_right += (labels == pred_labels).sum()\n",
        "        \n",
        "        # выводим статистику о процессе обучения\n",
        "        if i % 150 == 0:    # печатаем каждые 150 batches\n",
        "            model.eval()\n",
        "            \n",
        "            print(f'Epoch [{epoch + 1}/{epochs}]. ' \\\n",
        "                  f'Step [{i + 1}/{len(train_loader)}]. ' \\\n",
        "                  f'Loss: {loss:.3f}. ' \\\n",
        "                  f'Acc: {running_right / running_items:.3f}', end='. ')\n",
        "            running_loss, running_items, running_right = 0.0, 0.0, 0.0\n",
        "            train_loss_history.append(loss)\n",
        "\n",
        "            # выводим статистику на тестовых данных\n",
        "            test_running_right, test_running_total, test_loss = 0.0, 0.0, 0.0\n",
        "            for j, data in enumerate(valid_loader):\n",
        "                test_labels = data[1].to(device)\n",
        "                test_outputs = model(data[0].to(device))\n",
        "                \n",
        "                # подсчет ошибки на тесте\n",
        "                test_loss = criterion(test_outputs, test_labels.float().view(-1, 1))\n",
        "                # подсчет метрики на тесте\n",
        "                test_running_total += len(data[1])\n",
        "                pred_test_labels = torch.squeeze((test_outputs > th).int())\n",
        "                test_running_right += (test_labels == pred_test_labels).sum()\n",
        "            \n",
        "            valid_loss_history.append(test_loss.item())\n",
        "            print(f'Val loss: {test_loss:.3f}. Val acc: {test_running_right / test_running_total:.3f}')\n",
        "        \n",
        "        model.train()\n",
        "        \n",
        "print('Training is finished!')"
      ],
      "metadata": {
        "colab": {
          "base_uri": "https://localhost:8080/"
        },
        "id": "r_CaFYOQX67O",
        "outputId": "cc1a3511-ba76-4ec7-e916-9bbd8c29d057"
      },
      "execution_count": 31,
      "outputs": [
        {
          "output_type": "stream",
          "name": "stdout",
          "text": [
            "Epoch [1/10]. Step [1/224]. Loss: 0.735. Acc: 0.060. Val loss: 0.721. Val acc: 0.142\n",
            "Epoch [1/10]. Step [151/224]. Loss: 0.226. Acc: 0.916. Val loss: 0.082. Val acc: 0.929\n",
            "Epoch [2/10]. Step [1/224]. Loss: 0.225. Acc: 0.940. Val loss: 0.062. Val acc: 0.929\n",
            "Epoch [2/10]. Step [151/224]. Loss: 0.189. Acc: 0.930. Val loss: 0.584. Val acc: 0.929\n",
            "Epoch [3/10]. Step [1/224]. Loss: 0.118. Acc: 0.980. Val loss: 0.085. Val acc: 0.929\n",
            "Epoch [3/10]. Step [151/224]. Loss: 0.132. Acc: 0.929. Val loss: 0.069. Val acc: 0.929\n",
            "Epoch [4/10]. Step [1/224]. Loss: 0.216. Acc: 0.940. Val loss: 0.045. Val acc: 0.929\n",
            "Epoch [4/10]. Step [151/224]. Loss: 0.166. Acc: 0.930. Val loss: 0.346. Val acc: 0.933\n",
            "Epoch [5/10]. Step [1/224]. Loss: 0.122. Acc: 0.970. Val loss: 0.655. Val acc: 0.935\n",
            "Epoch [5/10]. Step [151/224]. Loss: 0.231. Acc: 0.943. Val loss: 0.033. Val acc: 0.939\n",
            "Epoch [6/10]. Step [1/224]. Loss: 0.101. Acc: 0.980. Val loss: 0.030. Val acc: 0.939\n",
            "Epoch [6/10]. Step [151/224]. Loss: 0.109. Acc: 0.951. Val loss: 0.065. Val acc: 0.941\n",
            "Epoch [7/10]. Step [1/224]. Loss: 0.158. Acc: 0.940. Val loss: 0.103. Val acc: 0.943\n",
            "Epoch [7/10]. Step [151/224]. Loss: 0.102. Acc: 0.955. Val loss: 0.044. Val acc: 0.943\n",
            "Epoch [8/10]. Step [1/224]. Loss: 0.125. Acc: 0.960. Val loss: 0.010. Val acc: 0.944\n",
            "Epoch [8/10]. Step [151/224]. Loss: 0.161. Acc: 0.960. Val loss: 0.014. Val acc: 0.944\n",
            "Epoch [9/10]. Step [1/224]. Loss: 0.145. Acc: 0.940. Val loss: 0.014. Val acc: 0.945\n",
            "Epoch [9/10]. Step [151/224]. Loss: 0.081. Acc: 0.963. Val loss: 0.002. Val acc: 0.946\n",
            "Epoch [10/10]. Step [1/224]. Loss: 0.130. Acc: 0.940. Val loss: 0.817. Val acc: 0.945\n",
            "Epoch [10/10]. Step [151/224]. Loss: 0.088. Acc: 0.967. Val loss: 0.677. Val acc: 0.943\n",
            "Training is finished!\n"
          ]
        }
      ]
    },
    {
      "cell_type": "code",
      "source": [
        "plt.title('Loss history')\n",
        "plt.grid(True)\n",
        "plt.ylabel('Loss')\n",
        "plt.xlabel('Step')\n",
        "plt.plot(train_loss_history, label='train')\n",
        "plt.plot(valid_loss_history, label='valid')\n",
        "plt.legend()"
      ],
      "metadata": {
        "colab": {
          "base_uri": "https://localhost:8080/",
          "height": 489
        },
        "id": "7evipwojYPLV",
        "outputId": "a40e084c-035d-4ef7-febe-118bc4d66d2d"
      },
      "execution_count": 32,
      "outputs": [
        {
          "output_type": "execute_result",
          "data": {
            "text/plain": [
              "<matplotlib.legend.Legend at 0x7fcdd39c0370>"
            ]
          },
          "metadata": {},
          "execution_count": 32
        },
        {
          "output_type": "display_data",
          "data": {
            "text/plain": [
              "<Figure size 640x480 with 1 Axes>"
            ],
            "image/png": "[encoded data removed]"
          },
          "metadata": {}
        }
      ]
    },
    {
      "cell_type": "markdown",
      "source": [
        "1. Число эпох в данной модели не сильно влияет на значения метрики. \n",
        "2. Модель довольно простая. Можно менять различные её параметры, и это не сильно скажется на результатах её обучения.\n"
      ],
      "metadata": {
        "id": "Gp2RDrveYXM8"
      }
    }
  ]
}