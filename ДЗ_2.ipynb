{
  "nbformat": 4,
  "nbformat_minor": 0,
  "metadata": {
    "colab": {
      "provenance": []
    },
    "kernelspec": {
      "name": "python3",
      "display_name": "Python 3"
    },
    "language_info": {
      "name": "python"
    },
    "widgets": {
      "application/vnd.jupyter.widget-state+json": {
        "132910649b304a03a1741c780a01cda2": {
          "model_module": "@jupyter-widgets/controls",
          "model_name": "HBoxModel",
          "model_module_version": "1.5.0",
          "state": {
            "_dom_classes": [],
            "_model_module": "@jupyter-widgets/controls",
            "_model_module_version": "1.5.0",
            "_model_name": "HBoxModel",
            "_view_count": null,
            "_view_module": "@jupyter-widgets/controls",
            "_view_module_version": "1.5.0",
            "_view_name": "HBoxView",
            "box_style": "",
            "children": [
              "IPY_MODEL_60a9962d7c3c4b03bcd4acfae796f573",
              "IPY_MODEL_bdd1f17ee27245e78844cc199deeffc0",
              "IPY_MODEL_bb59fb37146a4f6f8e3f477ee02af92e"
            ],
            "layout": "IPY_MODEL_c510a0ce64614b77894cc532d8614881"
          }
        },
        "60a9962d7c3c4b03bcd4acfae796f573": {
          "model_module": "@jupyter-widgets/controls",
          "model_name": "HTMLModel",
          "model_module_version": "1.5.0",
          "state": {
            "_dom_classes": [],
            "_model_module": "@jupyter-widgets/controls",
            "_model_module_version": "1.5.0",
            "_model_name": "HTMLModel",
            "_view_count": null,
            "_view_module": "@jupyter-widgets/controls",
            "_view_module_version": "1.5.0",
            "_view_name": "HTMLView",
            "description": "",
            "description_tooltip": null,
            "layout": "IPY_MODEL_7eef6c7d69fa429aad6650531c4701ed",
            "placeholder": "​",
            "style": "IPY_MODEL_967ad2956e4f47d084fdf7809816dc1f",
            "value": "100%"
          }
        },
        "bdd1f17ee27245e78844cc199deeffc0": {
          "model_module": "@jupyter-widgets/controls",
          "model_name": "FloatProgressModel",
          "model_module_version": "1.5.0",
          "state": {
            "_dom_classes": [],
            "_model_module": "@jupyter-widgets/controls",
            "_model_module_version": "1.5.0",
            "_model_name": "FloatProgressModel",
            "_view_count": null,
            "_view_module": "@jupyter-widgets/controls",
            "_view_module_version": "1.5.0",
            "_view_name": "ProgressView",
            "bar_style": "success",
            "description": "",
            "description_tooltip": null,
            "layout": "IPY_MODEL_cd0a770db89742999335bb6a9e03b1e9",
            "max": 170498071,
            "min": 0,
            "orientation": "horizontal",
            "style": "IPY_MODEL_5905869c2e4b46bd8a6d24ec33737421",
            "value": 170498071
          }
        },
        "bb59fb37146a4f6f8e3f477ee02af92e": {
          "model_module": "@jupyter-widgets/controls",
          "model_name": "HTMLModel",
          "model_module_version": "1.5.0",
          "state": {
            "_dom_classes": [],
            "_model_module": "@jupyter-widgets/controls",
            "_model_module_version": "1.5.0",
            "_model_name": "HTMLModel",
            "_view_count": null,
            "_view_module": "@jupyter-widgets/controls",
            "_view_module_version": "1.5.0",
            "_view_name": "HTMLView",
            "description": "",
            "description_tooltip": null,
            "layout": "IPY_MODEL_cd16f0a9e00141ceb9b0a18d2a002a2f",
            "placeholder": "​",
            "style": "IPY_MODEL_6ea237106b7c4cca9ede29de40f1821e",
            "value": " 170498071/170498071 [00:03&lt;00:00, 45470769.76it/s]"
          }
        },
        "c510a0ce64614b77894cc532d8614881": {
          "model_module": "@jupyter-widgets/base",
          "model_name": "LayoutModel",
          "model_module_version": "1.2.0",
          "state": {
            "_model_module": "@jupyter-widgets/base",
            "_model_module_version": "1.2.0",
            "_model_name": "LayoutModel",
            "_view_count": null,
            "_view_module": "@jupyter-widgets/base",
            "_view_module_version": "1.2.0",
            "_view_name": "LayoutView",
            "align_content": null,
            "align_items": null,
            "align_self": null,
            "border": null,
            "bottom": null,
            "display": null,
            "flex": null,
            "flex_flow": null,
            "grid_area": null,
            "grid_auto_columns": null,
            "grid_auto_flow": null,
            "grid_auto_rows": null,
            "grid_column": null,
            "grid_gap": null,
            "grid_row": null,
            "grid_template_areas": null,
            "grid_template_columns": null,
            "grid_template_rows": null,
            "height": null,
            "justify_content": null,
            "justify_items": null,
            "left": null,
            "margin": null,
            "max_height": null,
            "max_width": null,
            "min_height": null,
            "min_width": null,
            "object_fit": null,
            "object_position": null,
            "order": null,
            "overflow": null,
            "overflow_x": null,
            "overflow_y": null,
            "padding": null,
            "right": null,
            "top": null,
            "visibility": null,
            "width": null
          }
        },
        "7eef6c7d69fa429aad6650531c4701ed": {
          "model_module": "@jupyter-widgets/base",
          "model_name": "LayoutModel",
          "model_module_version": "1.2.0",
          "state": {
            "_model_module": "@jupyter-widgets/base",
            "_model_module_version": "1.2.0",
            "_model_name": "LayoutModel",
            "_view_count": null,
            "_view_module": "@jupyter-widgets/base",
            "_view_module_version": "1.2.0",
            "_view_name": "LayoutView",
            "align_content": null,
            "align_items": null,
            "align_self": null,
            "border": null,
            "bottom": null,
            "display": null,
            "flex": null,
            "flex_flow": null,
            "grid_area": null,
            "grid_auto_columns": null,
            "grid_auto_flow": null,
            "grid_auto_rows": null,
            "grid_column": null,
            "grid_gap": null,
            "grid_row": null,
            "grid_template_areas": null,
            "grid_template_columns": null,
            "grid_template_rows": null,
            "height": null,
            "justify_content": null,
            "justify_items": null,
            "left": null,
            "margin": null,
            "max_height": null,
            "max_width": null,
            "min_height": null,
            "min_width": null,
            "object_fit": null,
            "object_position": null,
            "order": null,
            "overflow": null,
            "overflow_x": null,
            "overflow_y": null,
            "padding": null,
            "right": null,
            "top": null,
            "visibility": null,
            "width": null
          }
        },
        "967ad2956e4f47d084fdf7809816dc1f": {
          "model_module": "@jupyter-widgets/controls",
          "model_name": "DescriptionStyleModel",
          "model_module_version": "1.5.0",
          "state": {
            "_model_module": "@jupyter-widgets/controls",
            "_model_module_version": "1.5.0",
            "_model_name": "DescriptionStyleModel",
            "_view_count": null,
            "_view_module": "@jupyter-widgets/base",
            "_view_module_version": "1.2.0",
            "_view_name": "StyleView",
            "description_width": ""
          }
        },
        "cd0a770db89742999335bb6a9e03b1e9": {
          "model_module": "@jupyter-widgets/base",
          "model_name": "LayoutModel",
          "model_module_version": "1.2.0",
          "state": {
            "_model_module": "@jupyter-widgets/base",
            "_model_module_version": "1.2.0",
            "_model_name": "LayoutModel",
            "_view_count": null,
            "_view_module": "@jupyter-widgets/base",
            "_view_module_version": "1.2.0",
            "_view_name": "LayoutView",
            "align_content": null,
            "align_items": null,
            "align_self": null,
            "border": null,
            "bottom": null,
            "display": null,
            "flex": null,
            "flex_flow": null,
            "grid_area": null,
            "grid_auto_columns": null,
            "grid_auto_flow": null,
            "grid_auto_rows": null,
            "grid_column": null,
            "grid_gap": null,
            "grid_row": null,
            "grid_template_areas": null,
            "grid_template_columns": null,
            "grid_template_rows": null,
            "height": null,
            "justify_content": null,
            "justify_items": null,
            "left": null,
            "margin": null,
            "max_height": null,
            "max_width": null,
            "min_height": null,
            "min_width": null,
            "object_fit": null,
            "object_position": null,
            "order": null,
            "overflow": null,
            "overflow_x": null,
            "overflow_y": null,
            "padding": null,
            "right": null,
            "top": null,
            "visibility": null,
            "width": null
          }
        },
        "5905869c2e4b46bd8a6d24ec33737421": {
          "model_module": "@jupyter-widgets/controls",
          "model_name": "ProgressStyleModel",
          "model_module_version": "1.5.0",
          "state": {
            "_model_module": "@jupyter-widgets/controls",
            "_model_module_version": "1.5.0",
            "_model_name": "ProgressStyleModel",
            "_view_count": null,
            "_view_module": "@jupyter-widgets/base",
            "_view_module_version": "1.2.0",
            "_view_name": "StyleView",
            "bar_color": null,
            "description_width": ""
          }
        },
        "cd16f0a9e00141ceb9b0a18d2a002a2f": {
          "model_module": "@jupyter-widgets/base",
          "model_name": "LayoutModel",
          "model_module_version": "1.2.0",
          "state": {
            "_model_module": "@jupyter-widgets/base",
            "_model_module_version": "1.2.0",
            "_model_name": "LayoutModel",
            "_view_count": null,
            "_view_module": "@jupyter-widgets/base",
            "_view_module_version": "1.2.0",
            "_view_name": "LayoutView",
            "align_content": null,
            "align_items": null,
            "align_self": null,
            "border": null,
            "bottom": null,
            "display": null,
            "flex": null,
            "flex_flow": null,
            "grid_area": null,
            "grid_auto_columns": null,
            "grid_auto_flow": null,
            "grid_auto_rows": null,
            "grid_column": null,
            "grid_gap": null,
            "grid_row": null,
            "grid_template_areas": null,
            "grid_template_columns": null,
            "grid_template_rows": null,
            "height": null,
            "justify_content": null,
            "justify_items": null,
            "left": null,
            "margin": null,
            "max_height": null,
            "max_width": null,
            "min_height": null,
            "min_width": null,
            "object_fit": null,
            "object_position": null,
            "order": null,
            "overflow": null,
            "overflow_x": null,
            "overflow_y": null,
            "padding": null,
            "right": null,
            "top": null,
            "visibility": null,
            "width": null
          }
        },
        "6ea237106b7c4cca9ede29de40f1821e": {
          "model_module": "@jupyter-widgets/controls",
          "model_name": "DescriptionStyleModel",
          "model_module_version": "1.5.0",
          "state": {
            "_model_module": "@jupyter-widgets/controls",
            "_model_module_version": "1.5.0",
            "_model_name": "DescriptionStyleModel",
            "_view_count": null,
            "_view_module": "@jupyter-widgets/base",
            "_view_module_version": "1.2.0",
            "_view_name": "StyleView",
            "description_width": ""
          }
        }
      }
    },
    "accelerator": "GPU",
    "gpuClass": "standard"
  },
  "cells": [
    {
      "cell_type": "markdown",
      "source": [
        "**Домашнее задание**\n",
        "\n",
        "Добиться хорошего результата от модели, собранной на занятии (5 угаданныx картинок из 8 предложенных). Варианты изменений:"
      ],
      "metadata": {
        "id": "ZLnH1LCLSX69"
      }
    },
    {
      "cell_type": "markdown",
      "source": [
        "изменение слоёв и их количества;\n",
        "\n",
        "изменение метода оптимизации;\n",
        "\n",
        "изменение процесса обучения;\n"
      ],
      "metadata": {
        "id": "B2zH7VIsSq89"
      }
    },
    {
      "cell_type": "markdown",
      "source": [
        "**Подключение библиотек**"
      ],
      "metadata": {
        "id": "UwuHuNGFSwPs"
      }
    },
    {
      "cell_type": "code",
      "execution_count": 1,
      "metadata": {
        "id": "4BlYsonOSLoW"
      },
      "outputs": [],
      "source": [
        "import torch\n",
        "import numpy as np\n",
        "import matplotlib.pyplot as plt\n",
        "\n",
        "from torch import nn\n",
        "from torch import optim\n",
        "\n",
        "import torchvision\n",
        "import torch.nn.functional as F\n",
        "import torchvision.transforms as transforms"
      ]
    },
    {
      "cell_type": "markdown",
      "source": [
        "**Загрузка данных**"
      ],
      "metadata": {
        "id": "Cz5x4McuS9pz"
      }
    },
    {
      "cell_type": "code",
      "source": [
        "train_dataset = torchvision.datasets.CIFAR10(root='data/',\n",
        "                                              train=True,\n",
        "                                              transform=transforms.ToTensor(), \n",
        "                                              download=True)\n",
        "\n",
        "\n",
        "image, label = train_dataset[0]\n",
        "print(image.size())\n",
        "print(label)"
      ],
      "metadata": {
        "colab": {
          "base_uri": "https://localhost:8080/",
          "height": 118,
          "referenced_widgets": [
            "132910649b304a03a1741c780a01cda2",
            "60a9962d7c3c4b03bcd4acfae796f573",
            "bdd1f17ee27245e78844cc199deeffc0",
            "bb59fb37146a4f6f8e3f477ee02af92e",
            "c510a0ce64614b77894cc532d8614881",
            "7eef6c7d69fa429aad6650531c4701ed",
            "967ad2956e4f47d084fdf7809816dc1f",
            "cd0a770db89742999335bb6a9e03b1e9",
            "5905869c2e4b46bd8a6d24ec33737421",
            "cd16f0a9e00141ceb9b0a18d2a002a2f",
            "6ea237106b7c4cca9ede29de40f1821e"
          ]
        },
        "id": "n4P3-3MgS_4R",
        "outputId": "ae1a88ed-70f2-497f-d1ab-93b286687d99"
      },
      "execution_count": 2,
      "outputs": [
        {
          "output_type": "stream",
          "name": "stdout",
          "text": [
            "Downloading https://www.cs.toronto.edu/~kriz/cifar-10-python.tar.gz to data/cifar-10-python.tar.gz\n"
          ]
        },
        {
          "output_type": "display_data",
          "data": {
            "text/plain": [
              "  0%|          | 0/170498071 [00:00<?, ?it/s]"
            ],
            "application/vnd.jupyter.widget-view+json": {
              "version_major": 2,
              "version_minor": 0,
              "model_id": "132910649b304a03a1741c780a01cda2"
            }
          },
          "metadata": {}
        },
        {
          "output_type": "stream",
          "name": "stdout",
          "text": [
            "Extracting data/cifar-10-python.tar.gz to data/\n",
            "torch.Size([3, 32, 32])\n",
            "6\n"
          ]
        }
      ]
    },
    {
      "cell_type": "code",
      "source": [
        "plt.imshow(image.permute(1, 2, 0).numpy())"
      ],
      "metadata": {
        "colab": {
          "base_uri": "https://localhost:8080/",
          "height": 283
        },
        "id": "7PZF4KNHTGok",
        "outputId": "9faf6ceb-53b9-4446-9f0d-134fb0736ac5"
      },
      "execution_count": 3,
      "outputs": [
        {
          "output_type": "execute_result",
          "data": {
            "text/plain": [
              "<matplotlib.image.AxesImage at 0x7fb8c2e8a130>"
            ]
          },
          "metadata": {},
          "execution_count": 3
        },
        {
          "output_type": "display_data",
          "data": {
            "text/plain": [
              "<Figure size 432x288 with 1 Axes>"
            ],
            "image/png": "[encoded data removed]"
          },
          "metadata": {
            "needs_background": "light"
          }
        }
      ]
    },
    {
      "cell_type": "code",
      "source": [
        "train_loader = torch.utils.data.DataLoader(dataset=train_dataset,\n",
        "                                           batch_size=64, \n",
        "                                           shuffle=True)\n",
        "     "
      ],
      "metadata": {
        "id": "wTwBb9sMTJU0"
      },
      "execution_count": 4,
      "outputs": []
    },
    {
      "cell_type": "code",
      "source": [
        "test_dataset = torchvision.datasets.CIFAR10(root='./data', \n",
        "                                            train=False,\n",
        "                                            download=True,\n",
        "                                            transform=transforms.ToTensor())\n",
        "test_loader = torch.utils.data.DataLoader(test_dataset, \n",
        "                                          batch_size=50,\n",
        "                                          shuffle=False)\n",
        "     "
      ],
      "metadata": {
        "colab": {
          "base_uri": "https://localhost:8080/"
        },
        "id": "hWGvz3cPTMFU",
        "outputId": "31b94bc7-6b9f-4244-a958-1e8f7cde2521"
      },
      "execution_count": 5,
      "outputs": [
        {
          "output_type": "stream",
          "name": "stdout",
          "text": [
            "Files already downloaded and verified\n"
          ]
        }
      ]
    },
    {
      "cell_type": "code",
      "source": [
        "classes = ('plane', 'car', 'bird', 'cat', 'deer', 'dog', 'frog', 'horse', 'ship', 'truck')"
      ],
      "metadata": {
        "id": "aZ8LTBPeTPIT"
      },
      "execution_count": 6,
      "outputs": []
    },
    {
      "cell_type": "markdown",
      "source": [
        "**Создание и обучение нейронной сети**"
      ],
      "metadata": {
        "id": "puOSFueBTRPk"
      }
    },
    {
      "cell_type": "code",
      "source": [
        "class Net(nn.Module):\n",
        "    def __init__(self, input_dim, hidden_dim, output_dim):\n",
        "        super().__init__()\n",
        "        self.fc1 = nn.Linear(input_dim, 4 * hidden_dim)\n",
        "        self.fc2 = nn.Linear(4 * hidden_dim, 2 * hidden_dim)\n",
        "        self.fc3 = nn.Linear(2 * hidden_dim, hidden_dim)\n",
        "        self.fc4 = nn.Linear(hidden_dim, output_dim)\n",
        "\n",
        "    def forward(self, x):\n",
        "        x = x.view(x.shape[0], -1)\n",
        "        x = self.fc1(x)\n",
        "        x = F.leaky_relu(x)\n",
        "        x = self.fc2(x)\n",
        "        x = F.leaky_relu(x)\n",
        "        x = self.fc3(x)\n",
        "        x = F.leaky_relu(x)\n",
        "        x = self.fc4(x)\n",
        "        return x\n",
        "    \n",
        "    def predict(self, x):\n",
        "        x = x.view(x.shape[0], -1)\n",
        "        x = self.fc1(x)\n",
        "        x = F.leaky_relu(x)\n",
        "        x = self.fc2(x)\n",
        "        x = F.leaky_relu(x)\n",
        "        x = self.fc3(x)\n",
        "        x = F.leaky_relu(x)\n",
        "        x = self.fc4(x)\n",
        "        x = F.softmax(x)\n",
        "        return x\n",
        "\n",
        "\n",
        "net = Net(3072, 100, 10)\n",
        "net.train()"
      ],
      "metadata": {
        "colab": {
          "base_uri": "https://localhost:8080/"
        },
        "id": "9m1wEE9CTTvE",
        "outputId": "32d08602-70d8-4d53-f370-42380e0e15bc"
      },
      "execution_count": 7,
      "outputs": [
        {
          "output_type": "execute_result",
          "data": {
            "text/plain": [
              "Net(\n",
              "  (fc1): Linear(in_features=3072, out_features=400, bias=True)\n",
              "  (fc2): Linear(in_features=400, out_features=200, bias=True)\n",
              "  (fc3): Linear(in_features=200, out_features=100, bias=True)\n",
              "  (fc4): Linear(in_features=100, out_features=10, bias=True)\n",
              ")"
            ]
          },
          "metadata": {},
          "execution_count": 7
        }
      ]
    },
    {
      "cell_type": "code",
      "source": [
        "criterion = nn.CrossEntropyLoss()\n",
        "optimizer = optim.SGD(net.parameters(), lr=0.01, momentum=0.0)\n"
      ],
      "metadata": {
        "id": "hFQjBG-yTYg1"
      },
      "execution_count": 8,
      "outputs": []
    },
    {
      "cell_type": "code",
      "source": [
        "num_epochs = 5\n",
        "\n",
        "for epoch in range(num_epochs):\n",
        "    running_loss = 0.0\n",
        "    running_items = 0.0\n",
        "\n",
        "\n",
        "    for i, data in enumerate(train_loader):\n",
        "        inputs, labels = data[0], data[1]\n",
        "\n",
        "         # Обнуляем градиент\n",
        "        optimizer.zero_grad()\n",
        "        # Делаем предсказание\n",
        "        outputs = net(inputs)\n",
        "        # Рассчитываем лосс-функцию\n",
        "        loss = criterion(outputs, labels)\n",
        "        # Делаем шаг назад по лоссу\n",
        "        loss.backward()\n",
        "        # Делаем шаг нашего оптимайзера\n",
        "        optimizer.step()\n",
        "\n",
        "        # выводим статистику о процессе обучения\n",
        "        running_loss += loss.item()\n",
        "        running_items += len(labels)\n",
        "        if i % 300 == 0:    # печатаем каждые 300 mini-batches\n",
        "            print(f'Epoch [{epoch + 1}/{num_epochs}]. ' \\\n",
        "                  f'Step [{i + 1}/{len(train_loader)}]. ' \\\n",
        "                  f'Loss: {running_loss / running_items:.3f}')\n",
        "            running_loss, running_items = 0.0, 0.0\n",
        "\n",
        "print('Training is finished!')"
      ],
      "metadata": {
        "colab": {
          "base_uri": "https://localhost:8080/"
        },
        "id": "kotRYHUdTcDF",
        "outputId": "67e6e447-b225-43b9-f1dc-9d31f95080a7"
      },
      "execution_count": 9,
      "outputs": [
        {
          "output_type": "stream",
          "name": "stdout",
          "text": [
            "Epoch [1/5]. Step [1/782]. Loss: 0.036\n",
            "Epoch [1/5]. Step [301/782]. Loss: 0.036\n",
            "Epoch [1/5]. Step [601/782]. Loss: 0.035\n",
            "Epoch [2/5]. Step [1/782]. Loss: 0.032\n",
            "Epoch [2/5]. Step [301/782]. Loss: 0.032\n",
            "Epoch [2/5]. Step [601/782]. Loss: 0.031\n",
            "Epoch [3/5]. Step [1/782]. Loss: 0.033\n",
            "Epoch [3/5]. Step [301/782]. Loss: 0.030\n",
            "Epoch [3/5]. Step [601/782]. Loss: 0.030\n",
            "Epoch [4/5]. Step [1/782]. Loss: 0.028\n",
            "Epoch [4/5]. Step [301/782]. Loss: 0.029\n",
            "Epoch [4/5]. Step [601/782]. Loss: 0.029\n",
            "Epoch [5/5]. Step [1/782]. Loss: 0.028\n",
            "Epoch [5/5]. Step [301/782]. Loss: 0.028\n",
            "Epoch [5/5]. Step [601/782]. Loss: 0.028\n",
            "Training is finished!\n"
          ]
        }
      ]
    },
    {
      "cell_type": "markdown",
      "source": [
        "**Выполнение предсказаний**"
      ],
      "metadata": {
        "id": "6bv2AB08T4Es"
      }
    },
    {
      "cell_type": "code",
      "source": [
        "from tqdm import tqdm"
      ],
      "metadata": {
        "id": "s0MaroL-cBTy"
      },
      "execution_count": 11,
      "outputs": []
    },
    {
      "cell_type": "code",
      "source": [],
      "metadata": {
        "id": "NU5kM6ziT6g8"
      },
      "execution_count": 10,
      "outputs": []
    },
    {
      "cell_type": "code",
      "source": [],
      "metadata": {
        "id": "UYm2YzZFUKms"
      },
      "execution_count": 50,
      "outputs": []
    },
    {
      "cell_type": "code",
      "source": [
        "print(outputs)"
      ],
      "metadata": {
        "colab": {
          "base_uri": "https://localhost:8080/"
        },
        "id": "8KnobPOnaf0C",
        "outputId": "4156534f-d163-44f5-bec8-c61ef189e627"
      },
      "execution_count": 12,
      "outputs": [
        {
          "output_type": "stream",
          "name": "stdout",
          "text": [
            "tensor([[-1.1620, -1.4351,  1.4703,  0.5386,  2.1099,  0.5912,  1.6586,  1.2081,\n",
            "         -2.8105, -1.8574],\n",
            "        [ 1.0693, -0.7634,  0.8139, -0.0365,  0.8999, -0.2431, -1.1290,  1.1344,\n",
            "         -0.6965, -0.7949],\n",
            "        [ 1.3546, -0.5941,  1.0674,  0.2823,  0.2973,  0.2599, -1.3905, -0.5942,\n",
            "          1.1594, -1.2059],\n",
            "        [-1.0422, -0.7689,  0.4020,  1.5410,  0.4352,  1.5535,  1.0549, -0.4389,\n",
            "         -0.8882, -1.3914],\n",
            "        [-0.0551, -0.3519,  0.7535,  0.7247,  0.9316,  1.0052, -0.1212,  0.2983,\n",
            "         -0.8361, -1.5516],\n",
            "        [-1.1238, -0.9812,  0.9841,  0.8188,  1.9207,  0.8063,  1.3869,  1.0681,\n",
            "         -2.6863, -1.6953],\n",
            "        [-0.7609, -1.4175,  1.2324,  0.5779,  1.4481,  0.6057,  0.9729,  0.7301,\n",
            "         -1.7678, -1.5565],\n",
            "        [-0.1000, -2.2314,  1.8743, -0.1995,  2.1596,  0.0906,  0.3271,  2.0943,\n",
            "         -2.1088, -1.6607],\n",
            "        [ 0.0452,  1.2937, -0.4797,  0.3454, -0.6316,  0.1655, -0.3801, -0.8179,\n",
            "          0.8979,  0.4688],\n",
            "        [-0.1087,  1.2317, -0.0425,  0.1169, -0.2057, -0.1475, -0.0970, -0.6238,\n",
            "          0.2993,  0.2240],\n",
            "        [-0.5736, -2.1046,  2.1394,  0.0510,  2.4704,  0.2015,  1.1300,  1.8406,\n",
            "         -2.9224, -2.0843],\n",
            "        [ 0.7338,  0.6439, -0.0304, -0.3366, -0.2647, -0.7914, -1.0936, -0.0981,\n",
            "          1.1361,  0.9988],\n",
            "        [ 0.4526,  1.1699, -0.4953,  0.0384, -0.7493, -0.4383, -0.9255, -0.4284,\n",
            "          1.3368,  1.1779],\n",
            "        [-1.3904, -0.1153,  0.7551,  0.8844,  1.3594,  0.7460,  1.7995,  0.3894,\n",
            "         -2.3238, -1.3555],\n",
            "        [ 1.6163, -1.3635,  1.8174, -0.2145,  1.3490, -0.4210, -1.3642,  0.5541,\n",
            "         -0.3928, -1.7275],\n",
            "        [-0.8030, -1.1495,  0.9882,  0.6656,  1.8605,  0.6625,  0.9467,  1.7853,\n",
            "         -2.9300, -1.5452]], grad_fn=<AddmmBackward0>)\n"
          ]
        }
      ]
    },
    {
      "cell_type": "code",
      "source": [
        "_, predicted = torch.max(outputs, 1)\n",
        "\n",
        "predicted"
      ],
      "metadata": {
        "colab": {
          "base_uri": "https://localhost:8080/"
        },
        "id": "Y0bl_a5LajQP",
        "outputId": "84d794c7-150f-4cc0-8106-3fd28f3b634c"
      },
      "execution_count": 13,
      "outputs": [
        {
          "output_type": "execute_result",
          "data": {
            "text/plain": [
              "tensor([4, 7, 0, 5, 5, 4, 4, 4, 1, 1, 4, 8, 8, 6, 2, 4])"
            ]
          },
          "metadata": {},
          "execution_count": 13
        }
      ]
    },
    {
      "cell_type": "code",
      "source": [
        "gt = np.array([classes[labels[j]] for j in range(len(labels))])\n",
        "pred = np.array([classes[predicted[j]] for j in range(len(labels))])\n",
        "\n",
        "print(gt)\n",
        "print(pred)\n",
        "print(f'Accuracy is {(gt == pred).sum() / len(gt)}')"
      ],
      "metadata": {
        "colab": {
          "base_uri": "https://localhost:8080/"
        },
        "id": "u9hatO0tamqQ",
        "outputId": "bd8a7d01-9ad9-459e-9b91-1db858570929"
      },
      "execution_count": 14,
      "outputs": [
        {
          "output_type": "stream",
          "name": "stdout",
          "text": [
            "['frog' 'car' 'cat' 'frog' 'dog' 'deer' 'deer' 'horse' 'plane' 'car' 'dog'\n",
            " 'ship' 'plane' 'frog' 'truck' 'deer']\n",
            "['deer' 'horse' 'plane' 'dog' 'dog' 'deer' 'deer' 'deer' 'car' 'car'\n",
            " 'deer' 'ship' 'ship' 'frog' 'bird' 'deer']\n",
            "Accuracy is 0.4375\n"
          ]
        }
      ]
    },
    {
      "cell_type": "markdown",
      "source": [
        "Accuracy = 0.4375 при исходных условиях "
      ],
      "metadata": {
        "id": "nmBNa0EReZAo"
      }
    },
    {
      "cell_type": "markdown",
      "source": [
        "**Изменение слоёв и их количества**"
      ],
      "metadata": {
        "id": "eFgXnAR-at-p"
      }
    },
    {
      "cell_type": "code",
      "source": [],
      "metadata": {
        "id": "PeeimTKKf6FV"
      },
      "execution_count": null,
      "outputs": []
    },
    {
      "cell_type": "code",
      "source": [
        "class Net(nn.Module):\n",
        "    def __init__(self, input_dim, hidden_dim, output_dim):\n",
        "        super().__init__()\n",
        "        self.fc1 = nn.Linear(input_dim, 8 * hidden_dim) # добавлено\n",
        "        self.fc2 = nn.Linear(8 * hidden_dim, 4 * hidden_dim)\n",
        "        self.fc3 = nn.Linear(4 * hidden_dim, 2 * hidden_dim)\n",
        "        self.fc4 = nn.Linear(2 * hidden_dim, hidden_dim) \n",
        "        self.fc5 = nn.Linear(hidden_dim, output_dim)\n",
        "\n",
        "    def forward(self, x):\n",
        "        x = x.view(x.shape[0], -1)\n",
        "        x = self.fc1(x)\n",
        "        x = F.leaky_relu(x)\n",
        "        x = self.fc2(x)\n",
        "        x = F.leaky_relu(x)\n",
        "        x = self.fc3(x)\n",
        "        x = F.leaky_relu(x)\n",
        "        x = self.fc4(x) # добавлено\n",
        "        x = F.relu(x) # добавлено\n",
        "        x = self.fc5(x)\n",
        "        return x\n",
        "    \n",
        "    def predict(self, x):\n",
        "        x = x.view(x.shape[0], -1)\n",
        "        x = self.fc1(x)\n",
        "        x = F.leaky_relu(x)\n",
        "        x = self.fc2(x)\n",
        "        x = F.leaky_relu(x)\n",
        "        x = self.fc3(x)\n",
        "        x = F.leaky_relu(x)\n",
        "        x = self.fc4(x)\n",
        "        x = F.relu(x) # добавлено\n",
        "        x = self.fc5(x) # добавлено\n",
        "        x = F.softmax(x)\n",
        "        return x\n",
        "\n",
        "\n",
        "net = Net(3072, 100, 10)\n",
        "net.train()"
      ],
      "metadata": {
        "colab": {
          "base_uri": "https://localhost:8080/"
        },
        "id": "4zaZAv0Uarx_",
        "outputId": "0cd4c37d-32f0-4d3e-ff6e-20a400576216"
      },
      "execution_count": 15,
      "outputs": [
        {
          "output_type": "execute_result",
          "data": {
            "text/plain": [
              "Net(\n",
              "  (fc1): Linear(in_features=3072, out_features=800, bias=True)\n",
              "  (fc2): Linear(in_features=800, out_features=400, bias=True)\n",
              "  (fc3): Linear(in_features=400, out_features=200, bias=True)\n",
              "  (fc4): Linear(in_features=200, out_features=100, bias=True)\n",
              "  (fc5): Linear(in_features=100, out_features=10, bias=True)\n",
              ")"
            ]
          },
          "metadata": {},
          "execution_count": 15
        }
      ]
    },
    {
      "cell_type": "markdown",
      "source": [
        "**Изменение метода оптимизации. Изменение процесса обучения**\n",
        "\n",
        "Изменили SGD на Adagrad"
      ],
      "metadata": {
        "id": "B_zHaJjea_ny"
      }
    },
    {
      "cell_type": "code",
      "source": [
        "criterion = nn.CrossEntropyLoss()\n",
        "optimizer = optim.Adagrad(net.parameters(), lr=0.001)"
      ],
      "metadata": {
        "id": "g1FRgRd0bFFO"
      },
      "execution_count": 16,
      "outputs": []
    },
    {
      "cell_type": "markdown",
      "source": [
        "Увеличили количество эпох с 5 до 15. Для обучения используем CUDA"
      ],
      "metadata": {
        "id": "XaVOwkUJbJv_"
      }
    },
    {
      "cell_type": "code",
      "source": [
        "num_epochs = 15\n",
        "with torch.cuda.device(\"cuda:0\"):\n",
        "    for epoch in range(num_epochs):\n",
        "        running_loss = 0.0\n",
        "        running_items = 0.0\n",
        "\n",
        "\n",
        "        for i, data in enumerate(train_loader):\n",
        "            inputs, labels = data[0], data[1]\n",
        "\n",
        "             # Обнуляем градиент\n",
        "            optimizer.zero_grad()\n",
        "            # Делаем предсказание\n",
        "            outputs = net(inputs)\n",
        "            # Рассчитываем лосс-функцию\n",
        "            loss = criterion(outputs, labels)\n",
        "            # Делаем шаг назад по лоссу\n",
        "            loss.backward()\n",
        "            # Делаем шаг нашего оптимайзера\n",
        "            optimizer.step()\n",
        "\n",
        "            # выводим статистику о процессе обучения\n",
        "            running_loss += loss.item()\n",
        "            running_items += len(labels)\n",
        "            if i % 500 == 0:    # печатаем каждые 500 mini-batches\n",
        "                print(f'Epoch [{epoch + 1}/{num_epochs}]. ' \\\n",
        "                      f'Step [{i + 1}/{len(train_loader)}]. ' \\\n",
        "                      f'Loss: {running_loss / running_items:.3f}')\n",
        "                running_loss, running_items = 0.0, 0.0\n",
        "\n",
        "print('Training is finished!')"
      ],
      "metadata": {
        "colab": {
          "base_uri": "https://localhost:8080/"
        },
        "id": "cviBApPUbKeI",
        "outputId": "5ff33bf4-d40b-4106-bba6-bb356ee8a8df"
      },
      "execution_count": 17,
      "outputs": [
        {
          "output_type": "stream",
          "name": "stdout",
          "text": [
            "Epoch [1/15]. Step [1/782]. Loss: 0.036\n",
            "Epoch [1/15]. Step [501/782]. Loss: 0.031\n",
            "Epoch [2/15]. Step [1/782]. Loss: 0.030\n",
            "Epoch [2/15]. Step [501/782]. Loss: 0.028\n",
            "Epoch [3/15]. Step [1/782]. Loss: 0.034\n",
            "Epoch [3/15]. Step [501/782]. Loss: 0.027\n",
            "Epoch [4/15]. Step [1/782]. Loss: 0.027\n",
            "Epoch [4/15]. Step [501/782]. Loss: 0.026\n",
            "Epoch [5/15]. Step [1/782]. Loss: 0.024\n",
            "Epoch [5/15]. Step [501/782]. Loss: 0.026\n",
            "Epoch [6/15]. Step [1/782]. Loss: 0.025\n",
            "Epoch [6/15]. Step [501/782]. Loss: 0.026\n",
            "Epoch [7/15]. Step [1/782]. Loss: 0.021\n",
            "Epoch [7/15]. Step [501/782]. Loss: 0.025\n",
            "Epoch [8/15]. Step [1/782]. Loss: 0.027\n",
            "Epoch [8/15]. Step [501/782]. Loss: 0.025\n",
            "Epoch [9/15]. Step [1/782]. Loss: 0.025\n",
            "Epoch [9/15]. Step [501/782]. Loss: 0.025\n",
            "Epoch [10/15]. Step [1/782]. Loss: 0.026\n",
            "Epoch [10/15]. Step [501/782]. Loss: 0.024\n",
            "Epoch [11/15]. Step [1/782]. Loss: 0.024\n",
            "Epoch [11/15]. Step [501/782]. Loss: 0.024\n",
            "Epoch [12/15]. Step [1/782]. Loss: 0.024\n",
            "Epoch [12/15]. Step [501/782]. Loss: 0.024\n",
            "Epoch [13/15]. Step [1/782]. Loss: 0.024\n",
            "Epoch [13/15]. Step [501/782]. Loss: 0.023\n",
            "Epoch [14/15]. Step [1/782]. Loss: 0.025\n",
            "Epoch [14/15]. Step [501/782]. Loss: 0.023\n",
            "Epoch [15/15]. Step [1/782]. Loss: 0.023\n",
            "Epoch [15/15]. Step [501/782]. Loss: 0.023\n",
            "Training is finished!\n"
          ]
        }
      ]
    },
    {
      "cell_type": "code",
      "source": [
        "_, predicted = torch.max(outputs, 1)\n",
        "\n",
        "predicted"
      ],
      "metadata": {
        "colab": {
          "base_uri": "https://localhost:8080/"
        },
        "id": "gcr3AtEJf7zt",
        "outputId": "ee1a8bba-fb4c-40d4-edc0-1db2d4df7e1d"
      },
      "execution_count": 18,
      "outputs": [
        {
          "output_type": "execute_result",
          "data": {
            "text/plain": [
              "tensor([9, 4, 7, 0, 6, 1, 6, 6, 4, 6, 9, 8, 7, 1, 8, 0])"
            ]
          },
          "metadata": {},
          "execution_count": 18
        }
      ]
    },
    {
      "cell_type": "code",
      "source": [
        "gt = np.array([classes[labels[j]] for j in range(len(labels))])\n",
        "pred = np.array([classes[predicted[j]] for j in range(len(labels))])\n",
        "\n",
        "print(gt)\n",
        "print(pred)\n",
        "print(f'Accuracy is {(gt == pred).sum() / len(gt)}')"
      ],
      "metadata": {
        "colab": {
          "base_uri": "https://localhost:8080/"
        },
        "id": "r8k6Aq6WgCWv",
        "outputId": "c06210ec-10cd-4672-f482-867cf24b8bf4"
      },
      "execution_count": 19,
      "outputs": [
        {
          "output_type": "stream",
          "name": "stdout",
          "text": [
            "['truck' 'deer' 'horse' 'plane' 'bird' 'car' 'cat' 'frog' 'deer' 'frog'\n",
            " 'car' 'ship' 'horse' 'car' 'ship' 'ship']\n",
            "['truck' 'deer' 'horse' 'plane' 'frog' 'car' 'frog' 'frog' 'deer' 'frog'\n",
            " 'truck' 'ship' 'horse' 'car' 'ship' 'plane']\n",
            "Accuracy is 0.75\n"
          ]
        }
      ]
    },
    {
      "cell_type": "markdown",
      "source": [
        "При изменении исходной сети и параметров её обучения удалось увеличить accuracy с 0.42 до 0.75"
      ],
      "metadata": {
        "id": "SyQt1TxVgFpk"
      }
    }
  ]
}