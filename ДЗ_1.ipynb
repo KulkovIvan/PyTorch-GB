{
  "nbformat": 4,
  "nbformat_minor": 0,
  "metadata": {
    "colab": {
      "provenance": []
    },
    "kernelspec": {
      "name": "python3",
      "display_name": "Python 3"
    },
    "language_info": {
      "name": "python"
    }
  },
  "cells": [
    {
      "cell_type": "code",
      "execution_count": 1,
      "metadata": {
        "id": "ETDwSAAjOjwY"
      },
      "outputs": [],
      "source": [
        "import torch"
      ]
    },
    {
      "cell_type": "code",
      "source": [
        "# Создайте случайный FloatTensor размера 3x4x5"
      ],
      "metadata": {
        "id": "Dnlw_dBeOzom"
      },
      "execution_count": 2,
      "outputs": []
    },
    {
      "cell_type": "code",
      "source": [
        "x = torch.FloatTensor(3,4,5)\n",
        "x"
      ],
      "metadata": {
        "colab": {
          "base_uri": "https://localhost:8080/"
        },
        "id": "qtAOuYxeO1Ae",
        "outputId": "0b62ca38-d3bc-4354-e50c-e5e474da95a9"
      },
      "execution_count": 5,
      "outputs": [
        {
          "output_type": "execute_result",
          "data": {
            "text/plain": [
              "tensor([[[0.0000e+00, 0.0000e+00, 1.8788e+31, 1.7220e+22, 2.1715e-18],\n",
              "         [1.3603e-05, 6.4464e-10, 1.6613e-07, 2.0773e+20, 3.1951e+21],\n",
              "         [1.0187e-11, 2.6078e+20, 1.3680e+22, 6.8001e+22, 2.1707e-18],\n",
              "         [4.5447e+30, 7.0062e+22, 2.1715e-18, 4.5447e+30, 7.0062e+22]],\n",
              "\n",
              "        [[2.1707e-18, 1.9284e+31, 3.2314e-18, 1.8692e+20, 1.3148e+22],\n",
              "         [1.0072e-11, 2.0429e+20, 1.0622e-05, 3.2767e-09, 6.3011e-10],\n",
              "         [5.4070e+22, 5.4406e-05, 3.0521e-18, 3.1360e+27, 7.0800e+31],\n",
              "         [3.1095e-18, 2.9907e+21, 1.1626e+27, 1.6534e+19, 3.0601e+32]],\n",
              "\n",
              "        [[3.3129e-18, 8.2207e+32, 1.8394e+25, 6.1963e-04, 4.1185e-11],\n",
              "         [1.4580e-19, 7.1429e+31, 1.5766e-19, 1.0256e-08, 4.1019e-08],\n",
              "         [3.0441e+12, 4.3350e-08, 6.5930e-10, 2.7002e-06, 1.2751e+16],\n",
              "         [4.4889e-41, 3.8115e-43, 0.0000e+00, 3.6013e-43, 0.0000e+00]]])"
            ]
          },
          "metadata": {},
          "execution_count": 5
        }
      ]
    },
    {
      "cell_type": "code",
      "source": [
        "# Выведите его форму (shape)"
      ],
      "metadata": {
        "id": "8an0vVZNPA2l"
      },
      "execution_count": 6,
      "outputs": []
    },
    {
      "cell_type": "code",
      "source": [
        "x.shape"
      ],
      "metadata": {
        "colab": {
          "base_uri": "https://localhost:8080/"
        },
        "id": "JdbevxrkPDI-",
        "outputId": "89181569-c140-4b39-fdcb-8ce8ec6ca4d4"
      },
      "execution_count": 7,
      "outputs": [
        {
          "output_type": "execute_result",
          "data": {
            "text/plain": [
              "torch.Size([3, 4, 5])"
            ]
          },
          "metadata": {},
          "execution_count": 7
        }
      ]
    },
    {
      "cell_type": "code",
      "source": [
        "# Приведите его к форме 6 X 10"
      ],
      "metadata": {
        "id": "B0LTwsxvPFqN"
      },
      "execution_count": 8,
      "outputs": []
    },
    {
      "cell_type": "code",
      "source": [
        "x = x.view(6,10)\n",
        "x.shape"
      ],
      "metadata": {
        "colab": {
          "base_uri": "https://localhost:8080/"
        },
        "id": "sE3pzBb7PHhN",
        "outputId": "18522718-6c72-4599-b013-c970725ac432"
      },
      "execution_count": 15,
      "outputs": [
        {
          "output_type": "execute_result",
          "data": {
            "text/plain": [
              "torch.Size([6, 10])"
            ]
          },
          "metadata": {},
          "execution_count": 15
        }
      ]
    },
    {
      "cell_type": "code",
      "source": [
        "# Умножьте его на вектор [1, 4, 2, 2, 1] поэлементно"
      ],
      "metadata": {
        "id": "sCu_CWZvPmkv"
      },
      "execution_count": 16,
      "outputs": []
    },
    {
      "cell_type": "code",
      "source": [
        "#Нельзя умножить разные размерности."
      ],
      "metadata": {
        "id": "f28UBR08PyOt"
      },
      "execution_count": 18,
      "outputs": []
    },
    {
      "cell_type": "code",
      "source": [
        "y = torch.tensor([1, 4, 2, 2, 1])\n",
        "y * y"
      ],
      "metadata": {
        "colab": {
          "base_uri": "https://localhost:8080/"
        },
        "id": "oAZd5kBRPozl",
        "outputId": "bffd5137-6bec-4fe4-855d-f28d68a1bd1a"
      },
      "execution_count": 17,
      "outputs": [
        {
          "output_type": "execute_result",
          "data": {
            "text/plain": [
              "tensor([ 1, 16,  4,  4,  1])"
            ]
          },
          "metadata": {},
          "execution_count": 17
        }
      ]
    },
    {
      "cell_type": "code",
      "source": [
        "# Умножьте тензор матрично на себя, чтобы результат был размерности 6x6"
      ],
      "metadata": {
        "id": "smSVAy8UP311"
      },
      "execution_count": 19,
      "outputs": []
    },
    {
      "cell_type": "code",
      "source": [
        "x = x @ x.T\n",
        "x.shape"
      ],
      "metadata": {
        "colab": {
          "base_uri": "https://localhost:8080/"
        },
        "id": "vK2ZxqC8P8Y1",
        "outputId": "874fcaa6-bdec-4e66-bc07-0a8fcedd2da6"
      },
      "execution_count": 20,
      "outputs": [
        {
          "output_type": "execute_result",
          "data": {
            "text/plain": [
              "torch.Size([6, 6])"
            ]
          },
          "metadata": {},
          "execution_count": 20
        }
      ]
    },
    {
      "cell_type": "code",
      "source": [
        "# Посчитайте производную функции y = x**3 + z - 75t в точке (1, 0.5, 2)"
      ],
      "metadata": {
        "id": "HqnHPGNXQAKW"
      },
      "execution_count": 21,
      "outputs": []
    },
    {
      "cell_type": "code",
      "source": [
        "x = torch.tensor([1.], requires_grad = True)\n",
        "z = torch.tensor([0.5], requires_grad = True)\n",
        "t = torch.tensor([2.], requires_grad = True)\n",
        "y = x**3 + z - 75 * t"
      ],
      "metadata": {
        "id": "GqEafY-iQBre"
      },
      "execution_count": 22,
      "outputs": []
    },
    {
      "cell_type": "code",
      "source": [
        "y.backward()"
      ],
      "metadata": {
        "id": "2RORvk4GQIju"
      },
      "execution_count": 23,
      "outputs": []
    },
    {
      "cell_type": "code",
      "source": [
        "x.grad, z.grad, t.grad"
      ],
      "metadata": {
        "colab": {
          "base_uri": "https://localhost:8080/"
        },
        "id": "UcW5GSd9QKxt",
        "outputId": "c9bfd9cf-1898-4260-c9d8-8440d1833891"
      },
      "execution_count": 24,
      "outputs": [
        {
          "output_type": "execute_result",
          "data": {
            "text/plain": [
              "(tensor([3.]), tensor([1.]), tensor([-75.]))"
            ]
          },
          "metadata": {},
          "execution_count": 24
        }
      ]
    },
    {
      "cell_type": "code",
      "source": [
        "# Создайте единичный тензор размера 5x6"
      ],
      "metadata": {
        "id": "MU_tSkuSQTr9"
      },
      "execution_count": 25,
      "outputs": []
    },
    {
      "cell_type": "code",
      "source": [
        "x = torch.ones(5,6)"
      ],
      "metadata": {
        "id": "nHVemsqgQUtH"
      },
      "execution_count": 26,
      "outputs": []
    },
    {
      "cell_type": "code",
      "source": [
        "# Переведите его в формат numpy"
      ],
      "metadata": {
        "id": "oCxSDFzaQXjG"
      },
      "execution_count": 27,
      "outputs": []
    },
    {
      "cell_type": "code",
      "source": [
        "x = x.numpy()"
      ],
      "metadata": {
        "id": "e38Ke3tfQYUI"
      },
      "execution_count": 28,
      "outputs": []
    },
    {
      "cell_type": "code",
      "source": [],
      "metadata": {
        "id": "VE2hwd0fQbKG"
      },
      "execution_count": 29,
      "outputs": []
    }
  ]
}